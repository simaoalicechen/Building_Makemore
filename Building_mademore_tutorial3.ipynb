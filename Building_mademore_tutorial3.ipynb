{
 "cells": [
  {
   "cell_type": "code",
   "execution_count": 1,
   "id": "8b0d3980",
   "metadata": {},
   "outputs": [],
   "source": [
    "import torch\n",
    "import torch.nn.functional as F\n",
    "import matplotlib.pyplot as plt \n",
    "%matplotlib inline "
   ]
  },
  {
   "cell_type": "code",
   "execution_count": 2,
   "id": "b7167981",
   "metadata": {},
   "outputs": [
    {
     "data": {
      "text/plain": [
       "['emma', 'olivia', 'ava', 'isabella', 'sophia', 'charlotte', 'mia', 'amelia']"
      ]
     },
     "execution_count": 2,
     "metadata": {},
     "output_type": "execute_result"
    }
   ],
   "source": [
    "words = open(\"names.txt\", 'r').read().splitlines()\n",
    "words[:8]"
   ]
  },
  {
   "cell_type": "code",
   "execution_count": 3,
   "id": "cde0a038",
   "metadata": {},
   "outputs": [
    {
     "data": {
      "text/plain": [
       "32033"
      ]
     },
     "execution_count": 3,
     "metadata": {},
     "output_type": "execute_result"
    }
   ],
   "source": [
    "len(words)"
   ]
  },
  {
   "cell_type": "code",
   "execution_count": 4,
   "id": "eaea11cc",
   "metadata": {},
   "outputs": [
    {
     "name": "stdout",
     "output_type": "stream",
     "text": [
      "{1: 'a', 2: 'b', 3: 'c', 4: 'd', 5: 'e', 6: 'f', 7: 'g', 8: 'h', 9: 'i', 10: 'j', 11: 'k', 12: 'l', 13: 'm', 14: 'n', 15: 'o', 16: 'p', 17: 'q', 18: 'r', 19: 's', 20: 't', 21: 'u', 22: 'v', 23: 'w', 24: 'x', 25: 'y', 26: 'z', 0: '.'}\n",
      "27\n"
     ]
    }
   ],
   "source": [
    "chars = sorted(list(set(''.join(words))))\n",
    "stoi = {s:i+1 for i,s in enumerate(chars)}\n",
    "stoi['.'] = 0\n",
    "itos = {i:s for s,i in stoi.items()}\n",
    "vocab_size = len(itos)\n",
    "print(itos)\n",
    "print(vocab_size)"
   ]
  },
  {
   "cell_type": "code",
   "execution_count": 5,
   "id": "5ecf5c10",
   "metadata": {},
   "outputs": [],
   "source": [
    "block_size = 3 \n",
    "def build_dataset(words):  \n",
    "    X, Y = [], []\n",
    "    \n",
    "    for w in words:\n",
    "        context = [0] * block_size\n",
    "        for ch in w + '.':\n",
    "            ix = stoi[ch]\n",
    "            X.append(context)\n",
    "            Y.append(ix)\n",
    "            context = context[1:] + [ix] \n",
    "            \n",
    "    X = torch.tensor(X)\n",
    "    Y = torch.tensor(Y)\n",
    "    print(X.shape, Y.shape)\n",
    "    return X, Y"
   ]
  },
  {
   "cell_type": "code",
   "execution_count": 6,
   "id": "0cf7de4c",
   "metadata": {},
   "outputs": [
    {
     "name": "stdout",
     "output_type": "stream",
     "text": [
      "torch.Size([182625, 3]) torch.Size([182625])\n",
      "torch.Size([22655, 3]) torch.Size([22655])\n",
      "torch.Size([22866, 3]) torch.Size([22866])\n"
     ]
    }
   ],
   "source": [
    "import random\n",
    "random.seed(42)\n",
    "random.shuffle(words)\n",
    "n1 = int(0.8*len(words))\n",
    "n2 = int(0.9*len(words))\n",
    "\n",
    "Xtr,  Ytr  = build_dataset(words[:n1])   \n",
    "Xdev, Ydev = build_dataset(words[n1:n2])  \n",
    "Xte,  Yte  = build_dataset(words[n2:])  "
   ]
  },
  {
   "cell_type": "markdown",
   "id": "f46524e4",
   "metadata": {},
   "source": [
    "## MLP Review\n"
   ]
  },
  {
   "cell_type": "code",
   "execution_count": 76,
   "id": "266ebcca",
   "metadata": {
    "scrolled": true
   },
   "outputs": [
    {
     "name": "stdout",
     "output_type": "stream",
     "text": [
      "12097\n"
     ]
    }
   ],
   "source": [
    "# good ones, the naive one is followed later\n",
    "n_embd = 10 \n",
    "n_hidden = 200 \n",
    "\n",
    "g = torch.Generator().manual_seed(2147483647)\n",
    "C = torch.randn((vocab_size, n_embd), generator=g)\n",
    "W1 = torch.randn((n_embd * block_size, n_hidden), generator=g) * (5/3)/((n_embd * block_size)**0.5) #* 0.2\n",
    "b1 = torch.randn(n_hidden, generator=g) \n",
    "W2 = torch.randn((n_hidden, vocab_size), generator=g) * 0.01\n",
    "# make it small, but not 0\n",
    "# b2 = torch.randn(vocab_size, generator=g)\n",
    "b2 = torch.randn(vocab_size, generator=g) * 0\n",
    "\n",
    "# baatchNorm parameters\n",
    "bngain = torch.ones((1, n_hidden))\n",
    "bnbias = torch.zeros((1, n_hidden))\n",
    "bnmean_running = torch.zeros((1, n_hidden))\n",
    "bnstd_running = torch.ones((1, n_hidden))\n",
    "\n",
    "parameters = [C, W1, W2, b2, bngain, bnbias]\n",
    "print(sum(p.nelement() for p in parameters)) # number of parameters in total\n",
    "for p in parameters:\n",
    "    p.requires_grad = True"
   ]
  },
  {
   "cell_type": "code",
   "execution_count": 62,
   "id": "544cf0f0",
   "metadata": {
    "scrolled": true
   },
   "outputs": [
    {
     "data": {
      "text/plain": [
       "torch.Size([182625, 3])"
      ]
     },
     "execution_count": 62,
     "metadata": {},
     "output_type": "execute_result"
    }
   ],
   "source": [
    "Xtr.shape"
   ]
  },
  {
   "cell_type": "code",
   "execution_count": 63,
   "id": "bae4210f",
   "metadata": {},
   "outputs": [],
   "source": [
    "max_steps = 20000\n",
    "batch_size = 32\n",
    "lossi = []"
   ]
  },
  {
   "cell_type": "code",
   "execution_count": 77,
   "id": "3c24403c",
   "metadata": {
    "scrolled": true
   },
   "outputs": [
    {
     "name": "stdout",
     "output_type": "stream",
     "text": [
      "      0/  20000: 3.3147\n",
      "    100/  20000: 2.4222\n",
      "    200/  20000: 2.8362\n",
      "    300/  20000: 2.5838\n",
      "    400/  20000: 2.5099\n",
      "    500/  20000: 2.7987\n",
      "    600/  20000: 2.4470\n",
      "    700/  20000: 2.4766\n",
      "    800/  20000: 2.3610\n",
      "    900/  20000: 2.1361\n",
      "   1000/  20000: 2.1945\n",
      "   1100/  20000: 2.2817\n",
      "   1200/  20000: 2.6710\n",
      "   1300/  20000: 2.7380\n",
      "   1400/  20000: 2.3078\n",
      "   1500/  20000: 2.3958\n",
      "   1600/  20000: 2.6015\n",
      "   1700/  20000: 2.3745\n",
      "   1800/  20000: 2.3172\n",
      "   1900/  20000: 2.3646\n",
      "   2000/  20000: 2.3061\n",
      "   2100/  20000: 2.4367\n",
      "   2200/  20000: 1.9582\n",
      "   2300/  20000: 2.4397\n",
      "   2400/  20000: 2.8702\n",
      "   2500/  20000: 2.3725\n",
      "   2600/  20000: 2.3520\n",
      "   2700/  20000: 2.1794\n",
      "   2800/  20000: 2.2166\n",
      "   2900/  20000: 2.2390\n",
      "   3000/  20000: 2.2337\n",
      "   3100/  20000: 2.5820\n",
      "   3200/  20000: 2.2044\n",
      "   3300/  20000: 2.2671\n",
      "   3400/  20000: 2.2901\n",
      "   3500/  20000: 2.4187\n",
      "   3600/  20000: 2.0603\n",
      "   3700/  20000: 2.1360\n",
      "   3800/  20000: 2.3896\n",
      "   3900/  20000: 2.3852\n",
      "   4000/  20000: 2.1661\n",
      "   4100/  20000: 2.5105\n",
      "   4200/  20000: 2.4325\n",
      "   4300/  20000: 2.6039\n",
      "   4400/  20000: 2.1537\n",
      "   4500/  20000: 2.0753\n",
      "   4600/  20000: 2.1254\n",
      "   4700/  20000: 2.1426\n",
      "   4800/  20000: 2.2359\n",
      "   4900/  20000: 2.5007\n",
      "   5000/  20000: 2.3550\n",
      "   5100/  20000: 2.3673\n",
      "   5200/  20000: 2.1780\n",
      "   5300/  20000: 1.9346\n",
      "   5400/  20000: 2.7435\n",
      "   5500/  20000: 2.5039\n",
      "   5600/  20000: 2.4635\n",
      "   5700/  20000: 2.4474\n",
      "   5800/  20000: 2.3178\n",
      "   5900/  20000: 1.9439\n",
      "   6000/  20000: 2.1222\n",
      "   6100/  20000: 2.4273\n",
      "   6200/  20000: 2.5183\n",
      "   6300/  20000: 2.3576\n",
      "   6400/  20000: 2.4809\n",
      "   6500/  20000: 2.1162\n",
      "   6600/  20000: 2.4229\n",
      "   6700/  20000: 2.3170\n",
      "   6800/  20000: 2.0770\n",
      "   6900/  20000: 2.3943\n",
      "   7000/  20000: 2.4549\n",
      "   7100/  20000: 2.3453\n",
      "   7200/  20000: 2.3157\n",
      "   7300/  20000: 2.2094\n",
      "   7400/  20000: 2.1285\n",
      "   7500/  20000: 2.3754\n",
      "   7600/  20000: 2.6655\n",
      "   7700/  20000: 2.0193\n",
      "   7800/  20000: 2.0579\n",
      "   7900/  20000: 2.4269\n",
      "   8000/  20000: 2.0116\n",
      "   8100/  20000: 2.2491\n",
      "   8200/  20000: 2.6513\n",
      "   8300/  20000: 2.2360\n",
      "   8400/  20000: 2.3987\n",
      "   8500/  20000: 2.4751\n",
      "   8600/  20000: 2.2710\n",
      "   8700/  20000: 2.0346\n",
      "   8800/  20000: 2.2002\n",
      "   8900/  20000: 2.3509\n",
      "   9000/  20000: 2.2276\n",
      "   9100/  20000: 2.0818\n",
      "   9200/  20000: 1.9755\n",
      "   9300/  20000: 2.3356\n",
      "   9400/  20000: 2.5894\n",
      "   9500/  20000: 2.6464\n",
      "   9600/  20000: 2.3904\n",
      "   9700/  20000: 2.6740\n",
      "   9800/  20000: 2.2106\n",
      "   9900/  20000: 2.0449\n",
      "  10000/  20000: 2.1984\n",
      "  10100/  20000: 2.5068\n",
      "  10200/  20000: 2.5399\n",
      "  10300/  20000: 1.9649\n",
      "  10400/  20000: 2.7629\n",
      "  10500/  20000: 2.3146\n",
      "  10600/  20000: 2.3048\n",
      "  10700/  20000: 2.2741\n",
      "  10800/  20000: 2.2499\n",
      "  10900/  20000: 2.3403\n",
      "  11000/  20000: 1.8837\n",
      "  11100/  20000: 2.0282\n",
      "  11200/  20000: 2.0697\n",
      "  11300/  20000: 2.3687\n",
      "  11400/  20000: 2.3246\n",
      "  11500/  20000: 2.2577\n",
      "  11600/  20000: 2.1850\n",
      "  11700/  20000: 2.1087\n",
      "  11800/  20000: 2.2745\n",
      "  11900/  20000: 2.5729\n",
      "  12000/  20000: 2.2050\n",
      "  12100/  20000: 1.8591\n",
      "  12200/  20000: 2.4348\n",
      "  12300/  20000: 2.2295\n",
      "  12400/  20000: 2.2151\n",
      "  12500/  20000: 2.1940\n",
      "  12600/  20000: 2.5121\n",
      "  12700/  20000: 2.0824\n",
      "  12800/  20000: 2.2384\n",
      "  12900/  20000: 2.2005\n",
      "  13000/  20000: 2.2054\n",
      "  13100/  20000: 2.4754\n",
      "  13200/  20000: 2.4860\n",
      "  13300/  20000: 2.1680\n",
      "  13400/  20000: 2.4130\n",
      "  13500/  20000: 2.4721\n",
      "  13600/  20000: 2.3264\n",
      "  13700/  20000: 2.3311\n",
      "  13800/  20000: 2.4234\n",
      "  13900/  20000: 1.9424\n",
      "  14000/  20000: 2.6501\n",
      "  14100/  20000: 2.4946\n",
      "  14200/  20000: 2.0361\n",
      "  14300/  20000: 2.4217\n",
      "  14400/  20000: 2.2272\n",
      "  14500/  20000: 2.6816\n",
      "  14600/  20000: 2.3305\n",
      "  14700/  20000: 2.1628\n",
      "  14800/  20000: 2.3879\n",
      "  14900/  20000: 2.2256\n",
      "  15000/  20000: 2.0817\n",
      "  15100/  20000: 2.2864\n",
      "  15200/  20000: 2.7077\n",
      "  15300/  20000: 2.3648\n",
      "  15400/  20000: 2.0592\n",
      "  15500/  20000: 1.9800\n",
      "  15600/  20000: 2.3982\n",
      "  15700/  20000: 2.3336\n",
      "  15800/  20000: 2.4478\n",
      "  15900/  20000: 2.3209\n",
      "  16000/  20000: 2.4526\n",
      "  16100/  20000: 2.1894\n",
      "  16200/  20000: 2.1095\n",
      "  16300/  20000: 2.6712\n",
      "  16400/  20000: 2.1590\n",
      "  16500/  20000: 2.2731\n",
      "  16600/  20000: 2.1448\n",
      "  16700/  20000: 2.1503\n",
      "  16800/  20000: 2.4272\n",
      "  16900/  20000: 2.1579\n",
      "  17000/  20000: 2.2701\n",
      "  17100/  20000: 2.2590\n",
      "  17200/  20000: 2.2873\n",
      "  17300/  20000: 2.3139\n",
      "  17400/  20000: 2.5554\n",
      "  17500/  20000: 2.0938\n",
      "  17600/  20000: 1.9855\n",
      "  17700/  20000: 2.2338\n",
      "  17800/  20000: 2.3146\n",
      "  17900/  20000: 2.3745\n",
      "  18000/  20000: 2.0249\n",
      "  18100/  20000: 2.4328\n",
      "  18200/  20000: 2.4523\n",
      "  18300/  20000: 2.0206\n",
      "  18400/  20000: 2.4805\n",
      "  18500/  20000: 1.8963\n",
      "  18600/  20000: 2.3817\n",
      "  18700/  20000: 2.3612\n",
      "  18800/  20000: 2.4373\n",
      "  18900/  20000: 2.1833\n",
      "  19000/  20000: 2.3733\n",
      "  19100/  20000: 2.3043\n",
      "  19200/  20000: 2.0004\n",
      "  19300/  20000: 2.3258\n",
      "  19400/  20000: 2.2380\n",
      "  19500/  20000: 1.9740\n",
      "  19600/  20000: 2.5572\n",
      "  19700/  20000: 2.3873\n",
      "  19800/  20000: 2.4386\n",
      "  19900/  20000: 1.9784\n"
     ]
    }
   ],
   "source": [
    "\n",
    "for i in range(max_steps):\n",
    "    # minibatch\n",
    "    ix = torch.randint(0, Xtr.shape[0], (batch_size,), generator=g)\n",
    "    Xb, Yb = Xtr[ix], Ytr[ix]\n",
    "    \n",
    "    # forward pass\n",
    "    emb = C[Xb] # embed the characters into vectors\n",
    "    embcat = emb.view(emb.shape[0], -1) # concatenate the vectors\n",
    "    # linear layer\n",
    "    # hidden layer pre-activation\n",
    "    hpreact = embcat @ W1 #+ b1 \n",
    "    \n",
    "    \n",
    "    # BatchNorm layer\n",
    "    # -------------------------------------------------------\n",
    "    bnmeani = hpreact.mean(0, keepdim=True)\n",
    "    bnstdi = hpreact.std(0, keepdim=True)\n",
    "    hpreact = bngain * (hpreact - bnmeani) / bnstdi + bnbias\n",
    "    \n",
    "    \n",
    "    \n",
    "    \n",
    "    with torch.no_grad():\n",
    "        bnmean_running = 0.999 * bnmean_running + 0.001 * bnmeani\n",
    "        bnstd_running = 0.999 * bnstd_running + 0.001 * bnstdi\n",
    "    # -------------------------------------------\n",
    "    # Non-linearity\n",
    "    h = torch.tanh(hpreact) \n",
    "    logits = h @ W2 + b2 \n",
    "    loss = F.cross_entropy(logits, Yb)\n",
    "    \n",
    "\n",
    "    for p in parameters:\n",
    "        p.grad = None\n",
    "    loss.backward()\n",
    "\n",
    "\n",
    "    lr = 0.1 if i < 100000 else 0.01 \n",
    "    for p in parameters:\n",
    "        p.data += -lr * p.grad\n",
    "\n",
    "    # track stats\n",
    "    if i % 100 == 0: # print every once in a while\n",
    "        print(f'{i:7d}/{max_steps:7d}: {loss.item():.4f}')\n",
    "    lossi.append(loss.log10().item())\n",
    "  "
   ]
  },
  {
   "cell_type": "code",
   "execution_count": 28,
   "id": "74075c73",
   "metadata": {
    "scrolled": true
   },
   "outputs": [
    {
     "data": {
      "text/plain": [
       "(torch.Size([182625, 200]), torch.Size([32, 200]))"
      ]
     },
     "execution_count": 28,
     "metadata": {},
     "output_type": "execute_result"
    }
   ],
   "source": [
    "hpreact.shape, h.shapebb"
   ]
  },
  {
   "cell_type": "code",
   "execution_count": 33,
   "id": "51907d72",
   "metadata": {},
   "outputs": [
    {
     "data": {
      "text/plain": [
       "[-3.3527133464813232,\n",
       " 1.1798368692398071,\n",
       " -0.6478926539421082,\n",
       " 1.5504176616668701,\n",
       " 0.7601938843727112,\n",
       " 0.5943890810012817,\n",
       " 1.925850749015808,\n",
       " -0.5160358548164368,\n",
       " -0.7210028767585754,\n",
       " 0.33796998858451843]"
      ]
     },
     "execution_count": 33,
     "metadata": {},
     "output_type": "execute_result"
    }
   ],
   "source": [
    "hpreact.view(-1).tolist()[:10]"
   ]
  },
  {
   "cell_type": "code",
   "execution_count": 32,
   "id": "5657fedd",
   "metadata": {},
   "outputs": [
    {
     "data": {
      "text/plain": [
       "[0.39484527707099915,\n",
       " -0.3920731842517853,\n",
       " -0.5789032578468323,\n",
       " 0.15651440620422363,\n",
       " 0.04293053597211838,\n",
       " -0.35242608189582825,\n",
       " -0.48185592889785767,\n",
       " -0.6497335433959961,\n",
       " 0.6438459157943726,\n",
       " 0.7209550142288208]"
      ]
     },
     "execution_count": 32,
     "metadata": {},
     "output_type": "execute_result"
    }
   ],
   "source": [
    "h.view(-1).tolist()[:10]"
   ]
  },
  {
   "cell_type": "code",
   "execution_count": 41,
   "id": "e18a4479",
   "metadata": {},
   "outputs": [
    {
     "data": {
      "text/plain": [
       "(array([252., 176., 161., 120., 125., 129., 117., 154., 129., 138., 106.,\n",
       "        105., 127., 101.,  95., 126.,  83., 112., 108.,  96., 108., 141.,\n",
       "        129., 137., 168., 137., 131., 118., 106., 127., 135., 121., 100.,\n",
       "        141., 103., 104., 114., 126., 132.,  74.,  62., 126., 134., 135.,\n",
       "         98., 103., 147., 140., 177., 266.]),\n",
       " array([-9.99369264e-01, -9.59386705e-01, -9.19404147e-01, -8.79421588e-01,\n",
       "        -8.39439030e-01, -7.99456471e-01, -7.59473913e-01, -7.19491354e-01,\n",
       "        -6.79508796e-01, -6.39526237e-01, -5.99543679e-01, -5.59561120e-01,\n",
       "        -5.19578562e-01, -4.79596003e-01, -4.39613445e-01, -3.99630886e-01,\n",
       "        -3.59648328e-01, -3.19665769e-01, -2.79683211e-01, -2.39700652e-01,\n",
       "        -1.99718094e-01, -1.59735535e-01, -1.19752977e-01, -7.97704184e-02,\n",
       "        -3.97878599e-02,  1.94698572e-04,  4.01772571e-02,  8.01598155e-02,\n",
       "         1.20142374e-01,  1.60124933e-01,  2.00107491e-01,  2.40090050e-01,\n",
       "         2.80072608e-01,  3.20055166e-01,  3.60037725e-01,  4.00020283e-01,\n",
       "         4.40002842e-01,  4.79985400e-01,  5.19967959e-01,  5.59950517e-01,\n",
       "         5.99933076e-01,  6.39915634e-01,  6.79898193e-01,  7.19880751e-01,\n",
       "         7.59863310e-01,  7.99845868e-01,  8.39828427e-01,  8.79810985e-01,\n",
       "         9.19793544e-01,  9.59776102e-01,  9.99758661e-01]),\n",
       " <BarContainer object of 50 artists>)"
      ]
     },
     "execution_count": 41,
     "metadata": {},
     "output_type": "execute_result"
    },
    {
     "data": {
      "image/png": "[encoded data removed]",
      "text/plain": [
       "<Figure size 640x480 with 1 Axes>"
      ]
     },
     "metadata": {},
     "output_type": "display_data"
    }
   ],
   "source": [
    "plt.hist(h.view(-1).tolist(), 50)\n",
    "# in tanh, everything is being \"squashed and rearranged\""
   ]
  },
  {
   "cell_type": "code",
   "execution_count": 78,
   "id": "c89a43be",
   "metadata": {},
   "outputs": [
    {
     "data": {
      "text/plain": [
       "(array([  3.,   0.,   0.,   1.,   2.,   5.,   2.,   7.,  11.,  16.,  27.,\n",
       "         49.,  49.,  81.,  96., 116., 142., 192., 239., 252., 330., 382.,\n",
       "        422., 469., 440., 432., 392., 381., 386., 314., 277., 197., 173.,\n",
       "        124., 104.,  89.,  56.,  54.,  27.,  20.,  13.,   4.,  10.,   7.,\n",
       "          2.,   2.,   1.,   1.,   0.,   1.]),\n",
       " array([-4.42725611, -4.24895202, -4.07064793, -3.89234384, -3.71403975,\n",
       "        -3.53573565, -3.35743156, -3.17912747, -3.00082338, -2.82251929,\n",
       "        -2.6442152 , -2.46591111, -2.28760702, -2.10930293, -1.93099884,\n",
       "        -1.75269475, -1.57439066, -1.39608657, -1.21778248, -1.03947839,\n",
       "        -0.8611743 , -0.68287021, -0.50456612, -0.32626203, -0.14795794,\n",
       "         0.03034616,  0.20865025,  0.38695434,  0.56525843,  0.74356252,\n",
       "         0.92186661,  1.1001707 ,  1.27847479,  1.45677888,  1.63508297,\n",
       "         1.81338706,  1.99169115,  2.16999524,  2.34829933,  2.52660342,\n",
       "         2.70490751,  2.8832116 ,  3.06151569,  3.23981978,  3.41812387,\n",
       "         3.59642797,  3.77473206,  3.95303615,  4.13134024,  4.30964433,\n",
       "         4.48794842]),\n",
       " <BarContainer object of 50 artists>)"
      ]
     },
     "execution_count": 78,
     "metadata": {},
     "output_type": "execute_result"
    },
    {
     "data": {
      "image/png": "[encoded data removed]",
      "text/plain": [
       "<Figure size 640x480 with 1 Axes>"
      ]
     },
     "metadata": {},
     "output_type": "display_data"
    }
   ],
   "source": [
    "plt.hist(hpreact.view(-1).tolist()[:10000], 50)\n",
    "\n",
    "# hpreact is only -4 to 4, better than the worse/latter version"
   ]
  },
  {
   "cell_type": "code",
   "execution_count": 19,
   "id": "871595d8",
   "metadata": {},
   "outputs": [
    {
     "data": {
      "text/plain": [
       "tensor(3.2958)"
      ]
     },
     "execution_count": 19,
     "metadata": {},
     "output_type": "execute_result"
    }
   ],
   "source": [
    "# seperate stuff\n",
    "# 1/27 initial chance of being chosen for any character\n",
    "-torch.tensor(1/27.0).log()"
   ]
  },
  {
   "cell_type": "code",
   "execution_count": 26,
   "id": "711d8115",
   "metadata": {},
   "outputs": [
    {
     "data": {
      "text/plain": [
       "(tensor([ 1.2946,  0.4244,  1.4995, -0.2296]),\n",
       " tensor([0.3492, 0.1463, 0.4285, 0.0760]),\n",
       " tensor(0.8474))"
      ]
     },
     "execution_count": 26,
     "metadata": {},
     "output_type": "execute_result"
    }
   ],
   "source": [
    "# seperate stuff\n",
    "\n",
    "logits = torch.randn(4)\n",
    "probs = torch.softmax(logits, dim = 0)\n",
    "loss = -probs[2].log()\n",
    "logits, probs, loss\n",
    "\n",
    "# therefore, things could have gone wrong if the first losses are much higher than 3.2958"
   ]
  },
  {
   "cell_type": "code",
   "execution_count": 79,
   "id": "d7adbdb5",
   "metadata": {
    "scrolled": true
   },
   "outputs": [
    {
     "data": {
      "text/plain": [
       "[<matplotlib.lines.Line2D at 0x20b779490>]"
      ]
     },
     "execution_count": 79,
     "metadata": {},
     "output_type": "execute_result"
    },
    {
     "data": {
      "image/png": "[encoded data removed]",
      "text/plain": [
       "<Figure size 640x480 with 1 Axes>"
      ]
     },
     "metadata": {},
     "output_type": "display_data"
    }
   ],
   "source": [
    "plt.plot(lossi)"
   ]
  },
  {
   "cell_type": "code",
   "execution_count": 80,
   "id": "369de374",
   "metadata": {
    "scrolled": true
   },
   "outputs": [
    {
     "data": {
      "text/plain": [
       "<matplotlib.image.AxesImage at 0x20b762f90>"
      ]
     },
     "execution_count": 80,
     "metadata": {},
     "output_type": "execute_result"
    },
    {
     "data": {
      "image/png": "[encoded data removed]",
      "text/plain": [
       "<Figure size 2000x1000 with 1 Axes>"
      ]
     },
     "metadata": {},
     "output_type": "display_data"
    }
   ],
   "source": [
    "plt.figure(figsize = (20, 10))\n",
    "plt.imshow(h.abs()>0.99, cmap = 'gray', interpolation = \"nearest\")\n",
    "# if it is a white dot, it means that dot is near the tail and has been activated. \n",
    "# a column is all white, it is a dead neuron. \n",
    "# choosing 0.99 here, because it means towards the tail,  \n",
    "# if a nueron gets the result in the tails, for the flat part of an activation, it is inactive afterwards... \n",
    "# it does not have gradient pass through, and it probably will never be reactivated again in the future. sooo... \n",
    "# it is kind of like brain damage.\n",
    "# we should avoid this kind of gradient "
   ]
  },
  {
   "cell_type": "code",
   "execution_count": 81,
   "id": "56061ccc",
   "metadata": {},
   "outputs": [
    {
     "name": "stdout",
     "output_type": "stream",
     "text": [
      "11897\n"
     ]
    }
   ],
   "source": [
    "# MLP revisited\n",
    "# worse version\n",
    "\n",
    "# a worse version, b1, b1, b2, w2 are not close to 0\n",
    "# the first loss is going to be huge\n",
    "\n",
    "\n",
    "n_embd = 10 \n",
    "n_hidden = 200 \n",
    "\n",
    "g = torch.Generator().manual_seed(2147483647)\n",
    "C = torch.randn((vocab_size, n_embd), generator=g)\n",
    "W1 = torch.randn((n_embd * block_size, n_hidden), generator=g)\n",
    "b1 = torch.randn(n_hidden, generator=g) \n",
    "W2 = torch.randn((n_hidden, vocab_size), generator=g) \n",
    "# make it small, but not 0\n",
    "# b2 = torch.randn(vocab_size, generator=g)\n",
    "b2 = torch.randn(vocab_size, generator=g) \n",
    "\n",
    "# baatchNorm parameters\n",
    "# bngain = torch.ones((1, n_hidden))\n",
    "# bnbias = torch.zeros((1, n_hidden))\n",
    "# bnmean_running = torch.zeros((1, n_hidden))\n",
    "# bnstd_running = torch.ones((1, n_hidden))\n",
    "\n",
    "parameters = [C, W1, b1, W2, b2,]\n",
    "print(sum(p.nelement() for p in parameters)) # number of parameters in total\n",
    "for p in parameters:\n",
    "    p.requires_grad = True"
   ]
  },
  {
   "cell_type": "code",
   "execution_count": 82,
   "id": "5f2f6c81",
   "metadata": {},
   "outputs": [
    {
     "name": "stdout",
     "output_type": "stream",
     "text": [
      "      0/  20000: 27.8817\n",
      "    200/  20000: 8.7435\n",
      "    400/  20000: 3.6911\n",
      "    600/  20000: 4.2153\n",
      "    800/  20000: 5.2333\n",
      "   1000/  20000: 4.0903\n",
      "   1200/  20000: 4.0933\n",
      "   1400/  20000: 3.1122\n",
      "   1600/  20000: 3.7591\n",
      "   1800/  20000: 3.4161\n",
      "   2000/  20000: 2.9773\n",
      "   2200/  20000: 2.6979\n",
      "   2400/  20000: 3.5182\n",
      "   2600/  20000: 3.0858\n",
      "   2800/  20000: 3.0245\n",
      "   3000/  20000: 2.9625\n",
      "   3200/  20000: 2.7569\n",
      "   3400/  20000: 3.0178\n",
      "   3600/  20000: 2.5338\n",
      "   3800/  20000: 2.7519\n",
      "   4000/  20000: 2.3263\n",
      "   4200/  20000: 2.9018\n",
      "   4400/  20000: 2.5059\n",
      "   4600/  20000: 2.2889\n",
      "   4800/  20000: 2.7963\n",
      "   5000/  20000: 2.3998\n",
      "   5200/  20000: 2.9633\n",
      "   5400/  20000: 3.1338\n",
      "   5600/  20000: 3.3486\n",
      "   5800/  20000: 2.6856\n",
      "   6000/  20000: 2.3728\n",
      "   6200/  20000: 3.3100\n",
      "   6400/  20000: 3.0872\n",
      "   6600/  20000: 2.9549\n",
      "   6800/  20000: 2.7653\n",
      "   7000/  20000: 2.7671\n",
      "   7200/  20000: 2.2756\n",
      "   7400/  20000: 2.2455\n",
      "   7600/  20000: 3.0820\n",
      "   7800/  20000: 2.1984\n",
      "   8000/  20000: 2.4620\n",
      "   8200/  20000: 2.8907\n",
      "   8400/  20000: 2.8595\n",
      "   8600/  20000: 2.5562\n",
      "   8800/  20000: 2.6552\n",
      "   9000/  20000: 2.5684\n",
      "   9200/  20000: 2.5854\n",
      "   9400/  20000: 2.7841\n",
      "   9600/  20000: 3.0359\n",
      "   9800/  20000: 2.5291\n",
      "  10000/  20000: 2.8967\n",
      "  10200/  20000: 2.9466\n",
      "  10400/  20000: 3.2120\n",
      "  10600/  20000: 2.5236\n",
      "  10800/  20000: 2.6721\n",
      "  11000/  20000: 2.0343\n",
      "  11200/  20000: 2.1735\n",
      "  11400/  20000: 2.4742\n",
      "  11600/  20000: 2.2936\n",
      "  11800/  20000: 2.6828\n",
      "  12000/  20000: 2.3943\n",
      "  12200/  20000: 2.7321\n",
      "  12400/  20000: 2.5252\n",
      "  12600/  20000: 2.9061\n",
      "  12800/  20000: 2.6861\n",
      "  13000/  20000: 2.4262\n",
      "  13200/  20000: 2.7347\n",
      "  13400/  20000: 2.8267\n",
      "  13600/  20000: 2.6278\n",
      "  13800/  20000: 2.5228\n",
      "  14000/  20000: 2.9599\n",
      "  14200/  20000: 2.2055\n",
      "  14400/  20000: 2.3996\n",
      "  14600/  20000: 2.5669\n",
      "  14800/  20000: 2.7149\n",
      "  15000/  20000: 2.2810\n",
      "  15200/  20000: 3.3249\n",
      "  15400/  20000: 2.2614\n",
      "  15600/  20000: 2.4028\n",
      "  15800/  20000: 2.5304\n",
      "  16000/  20000: 2.6035\n",
      "  16200/  20000: 2.3802\n",
      "  16400/  20000: 2.2885\n",
      "  16600/  20000: 2.4245\n",
      "  16800/  20000: 2.5434\n",
      "  17000/  20000: 2.6537\n",
      "  17200/  20000: 2.4887\n",
      "  17400/  20000: 2.6412\n",
      "  17600/  20000: 2.1811\n",
      "  17800/  20000: 2.5653\n",
      "  18000/  20000: 2.4092\n",
      "  18200/  20000: 2.5038\n",
      "  18400/  20000: 2.8035\n",
      "  18600/  20000: 2.7549\n",
      "  18800/  20000: 2.8560\n",
      "  19000/  20000: 2.2377\n",
      "  19200/  20000: 2.1590\n",
      "  19400/  20000: 2.4958\n",
      "  19600/  20000: 2.6493\n",
      "  19800/  20000: 2.3482\n"
     ]
    }
   ],
   "source": [
    "for i in range(max_steps):\n",
    "    \n",
    "    ix = torch.randint(0, Xtr.shape[0], (batch_size,), generator=g)\n",
    "    Xb, Yb = Xtr[ix], Ytr[ix]\n",
    "    \n",
    "    # forward pass\n",
    "    emb = C[Xb] # embed the characters into vectors\n",
    "    embcat = emb.view(emb.shape[0], -1) # concatenate the vectors\n",
    "    # linear layer\n",
    "    # hidden layer pre-activation\n",
    "    hpreact = embcat @ W1 + b1 \n",
    "    \n",
    "    \n",
    "    # BatchNorm layer\n",
    "    # -------------------------------------------------------\n",
    "#     bnmeani = hpreact.mean(0, keepdim=True)\n",
    "#     bnstdi = hpreact.std(0, keepdim=True)\n",
    "#     hpreact = bngain * (hpreact - bnmeani) / bnstdi + bnbias\n",
    "    h = torch.tanh(hpreact)\n",
    "    logits = h @ W2 + b2\n",
    "    loss = F.cross_entropy(logits, Yb)\n",
    "    \n",
    "    \n",
    "    \n",
    "#     with torch.no_grad():\n",
    "#         bnmean_running = 0.999 * bnmean_running + 0.001 * bnmeani\n",
    "#         bnstd_running = 0.999 * bnstd_running + 0.001 * bnstdi\n",
    "#     # -------------------------------------------\n",
    "#     # Non-linearity\n",
    "#     h = torch.tanh(hpreact) \n",
    "#     logits = h @ W2 + b2 \n",
    "#     loss = F.cross_entropy(logits, Yb)\n",
    "    \n",
    "\n",
    "    for p in parameters:\n",
    "        p.grad = None\n",
    "    loss.backward()\n",
    "\n",
    "\n",
    "    lr = 0.1 if i < 100000 else 0.01 \n",
    "    for p in parameters:\n",
    "        p.data += -lr * p.grad\n",
    "\n",
    "    # track stats\n",
    "    if i % 200 == 0: # print every once in a while\n",
    "        print(f'{i:7d}/{max_steps:7d}: {loss.item():.4f}')\n",
    "    lossi.append(loss.log10().item())\n",
    "  "
   ]
  },
  {
   "cell_type": "code",
   "execution_count": 83,
   "id": "75813c17",
   "metadata": {},
   "outputs": [
    {
     "data": {
      "text/plain": [
       "(array([2081.,  230.,  143.,  100.,   47.,   37.,   45.,   27.,   41.,\n",
       "          28.,   19.,   17.,   22.,   23.,   20.,   15.,   24.,   16.,\n",
       "          15.,   22.,   14.,   16.,   18.,   13.,   16.,   14.,   17.,\n",
       "          22.,   10.,   11.,   13.,   15.,   24.,   18.,   19.,   20.,\n",
       "          18.,   14.,   34.,   22.,   21.,   26.,   40.,   42.,   52.,\n",
       "          70.,   65.,  108.,  253., 2403.]),\n",
       " array([-1.  , -0.96, -0.92, -0.88, -0.84, -0.8 , -0.76, -0.72, -0.68,\n",
       "        -0.64, -0.6 , -0.56, -0.52, -0.48, -0.44, -0.4 , -0.36, -0.32,\n",
       "        -0.28, -0.24, -0.2 , -0.16, -0.12, -0.08, -0.04,  0.  ,  0.04,\n",
       "         0.08,  0.12,  0.16,  0.2 ,  0.24,  0.28,  0.32,  0.36,  0.4 ,\n",
       "         0.44,  0.48,  0.52,  0.56,  0.6 ,  0.64,  0.68,  0.72,  0.76,\n",
       "         0.8 ,  0.84,  0.88,  0.92,  0.96,  1.  ]),\n",
       " <BarContainer object of 50 artists>)"
      ]
     },
     "execution_count": 83,
     "metadata": {},
     "output_type": "execute_result"
    },
    {
     "data": {
      "image/png": "[encoded data removed]",
      "text/plain": [
       "<Figure size 640x480 with 1 Axes>"
      ]
     },
     "metadata": {},
     "output_type": "display_data"
    }
   ],
   "source": [
    "# h data is very extreme\n",
    "plt.hist(h.view(-1).tolist(), 50)\n",
    "# in tanh, everything is being \"squashed and rearranged\""
   ]
  },
  {
   "cell_type": "code",
   "execution_count": 84,
   "id": "d2359373",
   "metadata": {
    "scrolled": true
   },
   "outputs": [
    {
     "data": {
      "text/plain": [
       "(array([  1.,   0.,   1.,   3.,   6.,   5.,  10.,  15.,  28.,  40.,  39.,\n",
       "         65.,  86., 102., 140., 160., 198., 245., 316., 406., 413., 387.,\n",
       "        273., 264., 288., 372., 429., 344., 272., 322., 284., 208., 188.,\n",
       "        130., 114.,  72.,  55.,  23.,  31.,  26.,  14.,   9.,   5.,   2.,\n",
       "          4.,   1.,   1.,   1.,   1.,   1.]),\n",
       " array([-15.84355545, -15.16682072, -14.49008598, -13.81335125,\n",
       "        -13.13661652, -12.45988178, -11.78314705, -11.10641232,\n",
       "        -10.42967758,  -9.75294285,  -9.07620811,  -8.39947338,\n",
       "         -7.72273865,  -7.04600391,  -6.36926918,  -5.69253445,\n",
       "         -5.01579971,  -4.33906498,  -3.66233025,  -2.98559551,\n",
       "         -2.30886078,  -1.63212605,  -0.95539131,  -0.27865658,\n",
       "          0.39807816,   1.07481289,   1.75154762,   2.42828236,\n",
       "          3.10501709,   3.78175182,   4.45848656,   5.13522129,\n",
       "          5.81195602,   6.48869076,   7.16542549,   7.84216022,\n",
       "          8.51889496,   9.19562969,   9.87236443,  10.54909916,\n",
       "         11.22583389,  11.90256863,  12.57930336,  13.25603809,\n",
       "         13.93277283,  14.60950756,  15.28624229,  15.96297703,\n",
       "         16.63971176,  17.3164465 ,  17.99318123]),\n",
       " <BarContainer object of 50 artists>)"
      ]
     },
     "execution_count": 84,
     "metadata": {},
     "output_type": "execute_result"
    },
    {
     "data": {
      "image/png": "[encoded data removed]",
      "text/plain": [
       "<Figure size 640x480 with 1 Axes>"
      ]
     },
     "metadata": {},
     "output_type": "display_data"
    }
   ],
   "source": [
    "# hpreact is also toooo broad (-15 to 15)\n",
    "plt.hist(hpreact.view(-1).tolist(), 50)"
   ]
  },
  {
   "cell_type": "code",
   "execution_count": 85,
   "id": "b22620a1",
   "metadata": {
    "scrolled": true
   },
   "outputs": [
    {
     "data": {
      "text/plain": [
       "[<matplotlib.lines.Line2D at 0x20b760210>]"
      ]
     },
     "execution_count": 85,
     "metadata": {},
     "output_type": "execute_result"
    },
    {
     "data": {
      "image/png": "[encoded data removed]",
      "text/plain": [
       "<Figure size 640x480 with 1 Axes>"
      ]
     },
     "metadata": {},
     "output_type": "display_data"
    }
   ],
   "source": [
    "plt.plot(lossi)"
   ]
  },
  {
   "cell_type": "code",
   "execution_count": 87,
   "id": "8e00ee4f",
   "metadata": {
    "scrolled": true
   },
   "outputs": [
    {
     "data": {
      "text/plain": [
       "<matplotlib.image.AxesImage at 0x20bce3390>"
      ]
     },
     "execution_count": 87,
     "metadata": {},
     "output_type": "execute_result"
    },
    {
     "data": {
      "image/png": "[encoded data removed]",
      "text/plain": [
       "<Figure size 2000x1000 with 1 Axes>"
      ]
     },
     "metadata": {},
     "output_type": "display_data"
    }
   ],
   "source": [
    "plt.figure(figsize = (20, 10))\n",
    "plt.imshow(h.abs()>0.99, cmap = 'gray', interpolation = \"nearest\")\n",
    "\n",
    "\n",
    "\n",
    "\n",
    "\n",
    "# here: we have some dead neurons (where the whole columns are white)"
   ]
  },
  {
   "cell_type": "code",
   "execution_count": 89,
   "id": "3df63ecb",
   "metadata": {},
   "outputs": [
    {
     "name": "stdout",
     "output_type": "stream",
     "text": [
      "tensor(-0.0015) tensor(1.0059)\n",
      "tensor(0.0061) tensor(3.2053)\n"
     ]
    },
    {
     "data": {
      "text/plain": [
       "(array([6.31251982e-06, 2.52500793e-05, 0.00000000e+00, 6.31251982e-06,\n",
       "        2.52500793e-05, 5.68126784e-05, 5.05001585e-05, 1.45187956e-04,\n",
       "        2.58813313e-04, 3.28251031e-04, 6.37564502e-04, 9.59503012e-04,\n",
       "        1.69806783e-03, 3.15625991e-03, 4.86695278e-03, 8.26940096e-03,\n",
       "        1.25177268e-02, 2.01053756e-02, 3.11207227e-02, 4.52102669e-02,\n",
       "        6.39142632e-02, 8.34199494e-02, 1.04358578e-01, 1.22841636e-01,\n",
       "        1.32247290e-01, 1.33351981e-01, 1.21269818e-01, 1.02351196e-01,\n",
       "        8.18291944e-02, 6.14713180e-02, 4.40045757e-02, 3.02937826e-02,\n",
       "        1.94109984e-02, 1.25619144e-02, 8.00427513e-03, 4.51976419e-03,\n",
       "        2.91638416e-03, 1.86850587e-03, 9.72128052e-04, 6.31251982e-04,\n",
       "        3.66126149e-04, 1.57812995e-04, 1.38875436e-04, 6.31251982e-05,\n",
       "        5.05001585e-05, 1.26250396e-05, 2.52500793e-05, 0.00000000e+00,\n",
       "        0.00000000e+00, 6.31251982e-06]),\n",
       " array([-19.7662735 , -18.97419678, -18.18212006, -17.39004333,\n",
       "        -16.59796661, -15.80588989, -15.01381317, -14.22173645,\n",
       "        -13.42965973, -12.63758301, -11.84550629, -11.05342957,\n",
       "        -10.26135284,  -9.46927612,  -8.6771994 ,  -7.88512268,\n",
       "         -7.09304596,  -6.30096924,  -5.50889252,  -4.7168158 ,\n",
       "         -3.92473907,  -3.13266235,  -2.34058563,  -1.54850891,\n",
       "         -0.75643219,   0.03564453,   0.82772125,   1.61979797,\n",
       "          2.41187469,   3.20395142,   3.99602814,   4.78810486,\n",
       "          5.58018158,   6.3722583 ,   7.16433502,   7.95641174,\n",
       "          8.74848846,   9.54056519,  10.33264191,  11.12471863,\n",
       "         11.91679535,  12.70887207,  13.50094879,  14.29302551,\n",
       "         15.08510223,  15.87717896,  16.66925568,  17.4613324 ,\n",
       "         18.25340912,  19.04548584,  19.83756256]),\n",
       " <BarContainer object of 50 artists>)"
      ]
     },
     "execution_count": 89,
     "metadata": {},
     "output_type": "execute_result"
    },
    {
     "data": {
      "image/png": "[encoded data removed]",
      "text/plain": [
       "<Figure size 2000x500 with 2 Axes>"
      ]
     },
     "metadata": {},
     "output_type": "display_data"
    }
   ],
   "source": [
    "x = torch.randn(1000, 10)\n",
    "w = torch.randn(10, 200) \n",
    "y = x @ w\n",
    "print(x.mean(), x.std())\n",
    "print(y.mean(), y.std())\n",
    "plt.figure(figsize = (20, 5))\n",
    "plt.subplot(121)\n",
    "plt.hist(x.view(-1).tolist(), 50, density = True)\n",
    "plt.subplot(122)\n",
    "plt.hist(y.view(-1).tolist(), 50, density = True)\n",
    "\n",
    "\n"
   ]
  },
  {
   "cell_type": "code",
   "execution_count": 90,
   "id": "e155592f",
   "metadata": {},
   "outputs": [
    {
     "name": "stdout",
     "output_type": "stream",
     "text": [
      "tensor(-0.0025) tensor(0.9987)\n",
      "tensor(-0.0306) tensor(16.3898)\n"
     ]
    },
    {
     "data": {
      "text/plain": [
       "(array([1.31426563e-06, 1.31426563e-06, 3.94279688e-06, 3.94279688e-06,\n",
       "        3.94279688e-06, 3.94279688e-06, 6.57132813e-06, 1.70854531e-05,\n",
       "        2.75995781e-05, 6.30847500e-05, 1.20912438e-04, 1.59026141e-04,\n",
       "        2.99652563e-04, 4.81021219e-04, 7.91187907e-04, 1.28535178e-03,\n",
       "        1.89122824e-03, 3.05041052e-03, 4.45930327e-03, 6.59761344e-03,\n",
       "        9.32077182e-03, 1.23554111e-02, 1.66149460e-02, 2.01884343e-02,\n",
       "        2.35030122e-02, 2.59436035e-02, 2.60671444e-02, 2.43717418e-02,\n",
       "        2.16827543e-02, 1.77399574e-02, 1.37827036e-02, 1.02171010e-02,\n",
       "        7.37960149e-03, 5.18346363e-03, 3.38423399e-03, 2.20665199e-03,\n",
       "        1.44832072e-03, 8.84500766e-04, 5.32277578e-04, 3.16738016e-04,\n",
       "        1.86625719e-04, 1.24855234e-04, 7.49131407e-05, 3.41709063e-05,\n",
       "        1.83997188e-05, 1.05141250e-05, 5.25706250e-06, 2.62853125e-06,\n",
       "        2.62853125e-06, 1.31426563e-06]),\n",
       " array([-99.53689575, -95.73248978, -91.9280838 , -88.12367783,\n",
       "        -84.31927185, -80.51486588, -76.7104599 , -72.90605392,\n",
       "        -69.10164795, -65.29724197, -61.492836  , -57.68843002,\n",
       "        -53.88402405, -50.07961807, -46.2752121 , -42.47080612,\n",
       "        -38.66640015, -34.86199417, -31.0575882 , -27.25318222,\n",
       "        -23.44877625, -19.64437027, -15.83996429, -12.03555832,\n",
       "         -8.23115234,  -4.42674637,  -0.62234039,   3.18206558,\n",
       "          6.98647156,  10.79087753,  14.59528351,  18.39968948,\n",
       "         22.20409546,  26.00850143,  29.81290741,  33.61731339,\n",
       "         37.42171936,  41.22612534,  45.03053131,  48.83493729,\n",
       "         52.63934326,  56.44374924,  60.24815521,  64.05256119,\n",
       "         67.85696716,  71.66137314,  75.46577911,  79.27018509,\n",
       "         83.07459106,  86.87899704,  90.68340302]),\n",
       " <BarContainer object of 50 artists>)"
      ]
     },
     "execution_count": 90,
     "metadata": {},
     "output_type": "execute_result"
    },
    {
     "data": {
      "image/png": "[encoded data removed]",
      "text/plain": [
       "<Figure size 2000x500 with 2 Axes>"
      ]
     },
     "metadata": {},
     "output_type": "display_data"
    }
   ],
   "source": [
    "x = torch.randn(1000, 10)\n",
    "w = torch.randn(10, 200) * 5\n",
    "y = x @ w\n",
    "print(x.mean(), x.std())\n",
    "print(y.mean(), y.std())\n",
    "plt.figure(figsize = (20, 5))\n",
    "plt.subplot(121)\n",
    "plt.hist(x.view(-1).tolist(), 50, density = True)\n",
    "plt.subplot(122)\n",
    "plt.hist(y.view(-1).tolist(), 50, density = True)\n",
    "\n",
    "\n"
   ]
  },
  {
   "cell_type": "code",
   "execution_count": 91,
   "id": "d97fd1d8",
   "metadata": {
    "scrolled": true
   },
   "outputs": [
    {
     "name": "stdout",
     "output_type": "stream",
     "text": [
      "tensor(0.0195) tensor(1.0096)\n",
      "tensor(-0.0008) tensor(0.6442)\n"
     ]
    },
    {
     "data": {
      "text/plain": [
       "(array([3.09140570e-05, 0.00000000e+00, 0.00000000e+00, 0.00000000e+00,\n",
       "        0.00000000e+00, 9.27421709e-05, 3.09140570e-05, 3.09140570e-05,\n",
       "        2.47312456e-04, 2.78226513e-04, 4.63710854e-04, 1.17473416e-03,\n",
       "        2.00941370e-03, 2.99866352e-03, 5.99732705e-03, 1.02943810e-02,\n",
       "        1.76828406e-02, 2.84409324e-02, 4.72985071e-02, 7.42555648e-02,\n",
       "        1.16700565e-01, 1.71789414e-01, 2.52258705e-01, 3.43733399e-01,\n",
       "        4.49088505e-01, 5.62326696e-01, 6.34820160e-01, 6.68547396e-01,\n",
       "        6.37695167e-01, 5.75774311e-01, 4.62999831e-01, 3.55295257e-01,\n",
       "        2.58688829e-01, 1.80692663e-01, 1.21646814e-01, 7.86144468e-02,\n",
       "        4.83495851e-02, 2.91519557e-02, 1.86720904e-02, 1.08508340e-02,\n",
       "        6.02824111e-03, 3.64785872e-03, 1.70027313e-03, 1.32930445e-03,\n",
       "        6.49195196e-04, 2.16398399e-04, 9.27421709e-05, 3.09140570e-05,\n",
       "        6.18281139e-05, 3.09140570e-05]),\n",
       " array([-4.45684719, -4.29510847, -4.13336975, -3.97163103, -3.80989231,\n",
       "        -3.64815359, -3.48641487, -3.32467615, -3.16293743, -3.00119871,\n",
       "        -2.83945999, -2.67772127, -2.51598255, -2.35424383, -2.19250511,\n",
       "        -2.03076639, -1.86902767, -1.70728895, -1.54555023, -1.38381151,\n",
       "        -1.22207279, -1.06033407, -0.89859535, -0.73685663, -0.57511791,\n",
       "        -0.41337919, -0.25164047, -0.08990175,  0.07183697,  0.23357569,\n",
       "         0.39531441,  0.55705313,  0.71879185,  0.88053057,  1.04226929,\n",
       "         1.20400801,  1.36574673,  1.52748545,  1.68922417,  1.85096289,\n",
       "         2.01270161,  2.17444033,  2.33617905,  2.49791777,  2.65965649,\n",
       "         2.82139521,  2.98313393,  3.14487265,  3.30661137,  3.46835009,\n",
       "         3.63008881]),\n",
       " <BarContainer object of 50 artists>)"
      ]
     },
     "execution_count": 91,
     "metadata": {},
     "output_type": "execute_result"
    },
    {
     "data": {
      "image/png": "[encoded data removed]",
      "text/plain": [
       "<Figure size 2000x500 with 2 Axes>"
      ]
     },
     "metadata": {},
     "output_type": "display_data"
    }
   ],
   "source": [
    "# shrik \n",
    "x = torch.randn(1000, 10)\n",
    "w = torch.randn(10, 200) * 0.2\n",
    "y = x @ w\n",
    "print(x.mean(), x.std())\n",
    "print(y.mean(), y.std())\n",
    "plt.figure(figsize = (20, 5))\n",
    "plt.subplot(121)\n",
    "plt.hist(x.view(-1).tolist(), 50, density = True)\n",
    "plt.subplot(122)\n",
    "plt.hist(y.view(-1).tolist(), 50, density = True)\n",
    "\n",
    "\n"
   ]
  },
  {
   "cell_type": "code",
   "execution_count": 92,
   "id": "179a45cd",
   "metadata": {
    "scrolled": false
   },
   "outputs": [
    {
     "data": {
      "text/plain": [
       "tensor([-0.2164,  0.1591, -0.3784,  ..., -0.0756, -0.3952, -0.3392])"
      ]
     },
     "execution_count": 92,
     "metadata": {},
     "output_type": "execute_result"
    }
   ],
   "source": [
    "torch.randn(10000)*0.2"
   ]
  },
  {
   "cell_type": "code",
   "execution_count": 95,
   "id": "c26d0f1c",
   "metadata": {},
   "outputs": [
    {
     "data": {
      "text/plain": [
       "30"
      ]
     },
     "execution_count": 95,
     "metadata": {},
     "output_type": "execute_result"
    }
   ],
   "source": [
    "n_embd * block_size"
   ]
  },
  {
   "cell_type": "code",
   "execution_count": 93,
   "id": "44a7a346",
   "metadata": {
    "scrolled": true
   },
   "outputs": [
    {
     "data": {
      "text/plain": [
       "<function Tensor.std>"
      ]
     },
     "execution_count": 93,
     "metadata": {},
     "output_type": "execute_result"
    }
   ],
   "source": [
    "(torch.randn(10000)*0.2).std"
   ]
  },
  {
   "cell_type": "code",
   "execution_count": 99,
   "id": "c57852c8",
   "metadata": {},
   "outputs": [],
   "source": [
    "# torch.nn.tanh recommendation"
   ]
  },
  {
   "cell_type": "code",
   "execution_count": 100,
   "id": "979e4405",
   "metadata": {},
   "outputs": [
    {
     "data": {
      "text/plain": [
       "0.3042903097250923"
      ]
     },
     "execution_count": 100,
     "metadata": {},
     "output_type": "execute_result"
    }
   ],
   "source": [
    "5/3 / (30**0.5)"
   ]
  },
  {
   "cell_type": "markdown",
   "id": "52d1e471",
   "metadata": {},
   "source": [
    "## Batch Normalization \n",
    "\n"
   ]
  },
  {
   "cell_type": "code",
   "execution_count": 102,
   "id": "1b829b91",
   "metadata": {},
   "outputs": [
    {
     "name": "stdout",
     "output_type": "stream",
     "text": [
      "12097\n"
     ]
    }
   ],
   "source": [
    "# \n",
    "n_embd = 10 \n",
    "n_hidden = 200 \n",
    "\n",
    "g = torch.Generator().manual_seed(2147483647)\n",
    "C = torch.randn((vocab_size, n_embd), generator=g)\n",
    "W1 = torch.randn((n_embd * block_size, n_hidden), generator=g) * (5/3)/((n_embd * block_size)**0.5) #* 0.2\n",
    "b1 = torch.randn(n_hidden, generator=g) \n",
    "W2 = torch.randn((n_hidden, vocab_size), generator=g) * 0.01\n",
    "# make it small, but not 0\n",
    "# b2 = torch.randn(vocab_size, generator=g)\n",
    "b2 = torch.randn(vocab_size, generator=g) * 0\n",
    "\n",
    "# baatchNorm parameters\n",
    "bngain = torch.ones((1, n_hidden))\n",
    "bnbias = torch.zeros((1, n_hidden))\n",
    "bnmean_running = torch.zeros((1, n_hidden))\n",
    "bnstd_running = torch.ones((1, n_hidden))\n",
    "\n",
    "parameters = [C, W1, W2, b2, bngain, bnbias]\n",
    "print(sum(p.nelement() for p in parameters)) # number of parameters in total\n",
    "for p in parameters:\n",
    "    p.requires_grad = True\n"
   ]
  },
  {
   "cell_type": "code",
   "execution_count": 101,
   "id": "695e0397",
   "metadata": {},
   "outputs": [
    {
     "name": "stdout",
     "output_type": "stream",
     "text": [
      "12097\n",
      "      0/  20000: 3.3147\n",
      "    100/  20000: 2.4222\n",
      "    200/  20000: 2.8362\n",
      "    300/  20000: 2.5838\n",
      "    400/  20000: 2.5099\n",
      "    500/  20000: 2.7987\n",
      "    600/  20000: 2.4470\n",
      "    700/  20000: 2.4766\n",
      "    800/  20000: 2.3610\n",
      "    900/  20000: 2.1361\n",
      "   1000/  20000: 2.1945\n",
      "   1100/  20000: 2.2817\n",
      "   1200/  20000: 2.6710\n",
      "   1300/  20000: 2.7380\n",
      "   1400/  20000: 2.3078\n",
      "   1500/  20000: 2.3958\n",
      "   1600/  20000: 2.6015\n",
      "   1700/  20000: 2.3745\n",
      "   1800/  20000: 2.3172\n",
      "   1900/  20000: 2.3646\n",
      "   2000/  20000: 2.3061\n",
      "   2100/  20000: 2.4367\n",
      "   2200/  20000: 1.9582\n",
      "   2300/  20000: 2.4397\n",
      "   2400/  20000: 2.8702\n",
      "   2500/  20000: 2.3725\n",
      "   2600/  20000: 2.3520\n",
      "   2700/  20000: 2.1794\n",
      "   2800/  20000: 2.2166\n",
      "   2900/  20000: 2.2390\n",
      "   3000/  20000: 2.2337\n",
      "   3100/  20000: 2.5820\n",
      "   3200/  20000: 2.2044\n",
      "   3300/  20000: 2.2671\n",
      "   3400/  20000: 2.2901\n",
      "   3500/  20000: 2.4187\n",
      "   3600/  20000: 2.0603\n",
      "   3700/  20000: 2.1360\n",
      "   3800/  20000: 2.3896\n",
      "   3900/  20000: 2.3852\n",
      "   4000/  20000: 2.1661\n",
      "   4100/  20000: 2.5105\n",
      "   4200/  20000: 2.4325\n",
      "   4300/  20000: 2.6039\n",
      "   4400/  20000: 2.1537\n",
      "   4500/  20000: 2.0753\n",
      "   4600/  20000: 2.1254\n",
      "   4700/  20000: 2.1426\n",
      "   4800/  20000: 2.2359\n",
      "   4900/  20000: 2.5007\n",
      "   5000/  20000: 2.3550\n",
      "   5100/  20000: 2.3673\n",
      "   5200/  20000: 2.1780\n",
      "   5300/  20000: 1.9346\n",
      "   5400/  20000: 2.7435\n",
      "   5500/  20000: 2.5039\n",
      "   5600/  20000: 2.4635\n",
      "   5700/  20000: 2.4474\n",
      "   5800/  20000: 2.3178\n",
      "   5900/  20000: 1.9439\n",
      "   6000/  20000: 2.1222\n",
      "   6100/  20000: 2.4273\n",
      "   6200/  20000: 2.5183\n",
      "   6300/  20000: 2.3576\n",
      "   6400/  20000: 2.4809\n",
      "   6500/  20000: 2.1162\n",
      "   6600/  20000: 2.4229\n",
      "   6700/  20000: 2.3170\n",
      "   6800/  20000: 2.0770\n",
      "   6900/  20000: 2.3943\n",
      "   7000/  20000: 2.4549\n",
      "   7100/  20000: 2.3453\n",
      "   7200/  20000: 2.3157\n",
      "   7300/  20000: 2.2094\n",
      "   7400/  20000: 2.1285\n",
      "   7500/  20000: 2.3754\n",
      "   7600/  20000: 2.6655\n",
      "   7700/  20000: 2.0193\n",
      "   7800/  20000: 2.0579\n",
      "   7900/  20000: 2.4269\n",
      "   8000/  20000: 2.0116\n",
      "   8100/  20000: 2.2491\n",
      "   8200/  20000: 2.6513\n",
      "   8300/  20000: 2.2360\n",
      "   8400/  20000: 2.3987\n",
      "   8500/  20000: 2.4751\n",
      "   8600/  20000: 2.2710\n",
      "   8700/  20000: 2.0346\n",
      "   8800/  20000: 2.2002\n",
      "   8900/  20000: 2.3509\n",
      "   9000/  20000: 2.2276\n",
      "   9100/  20000: 2.0818\n",
      "   9200/  20000: 1.9755\n",
      "   9300/  20000: 2.3356\n",
      "   9400/  20000: 2.5894\n",
      "   9500/  20000: 2.6464\n",
      "   9600/  20000: 2.3904\n",
      "   9700/  20000: 2.6740\n",
      "   9800/  20000: 2.2106\n",
      "   9900/  20000: 2.0449\n",
      "  10000/  20000: 2.1984\n",
      "  10100/  20000: 2.5068\n",
      "  10200/  20000: 2.5399\n",
      "  10300/  20000: 1.9649\n",
      "  10400/  20000: 2.7629\n",
      "  10500/  20000: 2.3146\n",
      "  10600/  20000: 2.3048\n",
      "  10700/  20000: 2.2741\n",
      "  10800/  20000: 2.2499\n",
      "  10900/  20000: 2.3403\n",
      "  11000/  20000: 1.8837\n",
      "  11100/  20000: 2.0282\n",
      "  11200/  20000: 2.0697\n",
      "  11300/  20000: 2.3687\n",
      "  11400/  20000: 2.3246\n",
      "  11500/  20000: 2.2577\n",
      "  11600/  20000: 2.1850\n",
      "  11700/  20000: 2.1087\n",
      "  11800/  20000: 2.2745\n",
      "  11900/  20000: 2.5729\n",
      "  12000/  20000: 2.2050\n",
      "  12100/  20000: 1.8591\n",
      "  12200/  20000: 2.4348\n",
      "  12300/  20000: 2.2295\n",
      "  12400/  20000: 2.2151\n",
      "  12500/  20000: 2.1940\n",
      "  12600/  20000: 2.5121\n",
      "  12700/  20000: 2.0824\n",
      "  12800/  20000: 2.2384\n",
      "  12900/  20000: 2.2005\n",
      "  13000/  20000: 2.2054\n",
      "  13100/  20000: 2.4754\n",
      "  13200/  20000: 2.4860\n",
      "  13300/  20000: 2.1680\n",
      "  13400/  20000: 2.4130\n",
      "  13500/  20000: 2.4721\n",
      "  13600/  20000: 2.3264\n",
      "  13700/  20000: 2.3311\n",
      "  13800/  20000: 2.4234\n",
      "  13900/  20000: 1.9424\n",
      "  14000/  20000: 2.6501\n",
      "  14100/  20000: 2.4946\n",
      "  14200/  20000: 2.0361\n",
      "  14300/  20000: 2.4217\n",
      "  14400/  20000: 2.2272\n",
      "  14500/  20000: 2.6816\n",
      "  14600/  20000: 2.3305\n",
      "  14700/  20000: 2.1628\n",
      "  14800/  20000: 2.3879\n",
      "  14900/  20000: 2.2256\n",
      "  15000/  20000: 2.0817\n",
      "  15100/  20000: 2.2864\n",
      "  15200/  20000: 2.7077\n",
      "  15300/  20000: 2.3648\n",
      "  15400/  20000: 2.0592\n",
      "  15500/  20000: 1.9800\n",
      "  15600/  20000: 2.3982\n",
      "  15700/  20000: 2.3336\n",
      "  15800/  20000: 2.4478\n",
      "  15900/  20000: 2.3209\n",
      "  16000/  20000: 2.4526\n",
      "  16100/  20000: 2.1894\n",
      "  16200/  20000: 2.1095\n",
      "  16300/  20000: 2.6712\n",
      "  16400/  20000: 2.1590\n",
      "  16500/  20000: 2.2731\n",
      "  16600/  20000: 2.1448\n",
      "  16700/  20000: 2.1503\n",
      "  16800/  20000: 2.4272\n",
      "  16900/  20000: 2.1579\n",
      "  17000/  20000: 2.2701\n",
      "  17100/  20000: 2.2590\n",
      "  17200/  20000: 2.2873\n",
      "  17300/  20000: 2.3139\n",
      "  17400/  20000: 2.5554\n",
      "  17500/  20000: 2.0938\n",
      "  17600/  20000: 1.9855\n",
      "  17700/  20000: 2.2338\n",
      "  17800/  20000: 2.3146\n",
      "  17900/  20000: 2.3745\n",
      "  18000/  20000: 2.0249\n",
      "  18100/  20000: 2.4328\n",
      "  18200/  20000: 2.4523\n",
      "  18300/  20000: 2.0206\n",
      "  18400/  20000: 2.4805\n",
      "  18500/  20000: 1.8963\n",
      "  18600/  20000: 2.3817\n",
      "  18700/  20000: 2.3612\n",
      "  18800/  20000: 2.4373\n",
      "  18900/  20000: 2.1833\n",
      "  19000/  20000: 2.3733\n",
      "  19100/  20000: 2.3043\n",
      "  19200/  20000: 2.0004\n",
      "  19300/  20000: 2.3258\n",
      "  19400/  20000: 2.2380\n",
      "  19500/  20000: 1.9740\n",
      "  19600/  20000: 2.5572\n",
      "  19700/  20000: 2.3873\n",
      "  19800/  20000: 2.4386\n",
      "  19900/  20000: 1.9784\n"
     ]
    }
   ],
   "source": [
    "for i in range(max_steps):\n",
    "    # minibatch\n",
    "    ix = torch.randint(0, Xtr.shape[0], (batch_size,), generator=g)\n",
    "    Xb, Yb = Xtr[ix], Ytr[ix]\n",
    "    \n",
    "    # forward pass\n",
    "    emb = C[Xb] # embed the characters into vectors\n",
    "    embcat = emb.view(emb.shape[0], -1) # concatenate the vectors\n",
    "    # linear layer\n",
    "    # hidden layer pre-activation\n",
    "    hpreact = embcat @ W1 \n",
    "    #+ b1 b1 is wasted here, they will be subtracted out by bnmeani, and does not have effect\n",
    "    # so b1 can be completely ignored. \n",
    "    \n",
    "    # BatchNorm layer **************************** Here !!!!\n",
    "    # -------------------------------------------------------\n",
    "    bnmeani = hpreact.mean(0, keepdim=True)\n",
    "    bnstdi = hpreact.std(0, keepdim=True)\n",
    "    hpreact = bngain * (hpreact - bnmeani) / bnstdi + bnbias # offsetting by bnstdi and bnbias\n",
    "    \n",
    "     # center the batch using Gaussian\n",
    "    \n",
    "    \n",
    "    with torch.no_grad():\n",
    "        # inferences \n",
    "        # on top of that, we will calculate mean and varaiance \n",
    "        bnmean_running = 0.999 * bnmean_running + 0.001 * bnmeani\n",
    "        bnstd_running = 0.999 * bnstd_running + 0.001 * bnstdi\n",
    "    # -------------------------------------------\n",
    "    # Non-linearity\n",
    "    h = torch.tanh(hpreact) \n",
    "    logits = h @ W2 + b2 \n",
    "    loss = F.cross_entropy(logits, Yb)\n",
    "    \n",
    "\n",
    "    for p in parameters:\n",
    "        p.grad = None\n",
    "    loss.backward()\n",
    "\n",
    "\n",
    "    lr = 0.1 if i < 100000 else 0.01 \n",
    "    for p in parameters:\n",
    "        p.data += -lr * p.grad\n",
    "\n",
    "    # track stats\n",
    "    if i % 100 == 0: # print every once in a while\n",
    "        print(f'{i:7d}/{max_steps:7d}: {loss.item():.4f}')\n",
    "    lossi.append(loss.log10().item())\n",
    "  "
   ]
  },
  {
   "cell_type": "code",
   "execution_count": 15,
   "id": "fa2f4dfe",
   "metadata": {},
   "outputs": [],
   "source": [
    "with torch.no_grad():\n",
    "    # pass the training set through\n",
    "    emb = C[Xtr]\n",
    "    embcat = emb.view(emb.shape[0], -1)\n",
    "    hpreact = embcat @ W1 # + b1\n",
    "    # measure the mean/std over the entire training set\n",
    "    bnmean = hpreact.mean(0, keepdim=True)\n",
    "    bnstd = hpreact.std(0, keepdim=True)"
   ]
  },
  {
   "cell_type": "code",
   "execution_count": 17,
   "id": "039da844",
   "metadata": {},
   "outputs": [
    {
     "name": "stdout",
     "output_type": "stream",
     "text": [
      "train 2.2065374851226807\n",
      "val 2.2185726165771484\n"
     ]
    }
   ],
   "source": [
    "# this decorator disables gradient tracking\n",
    "@torch.no_grad() \n",
    "def split_loss(split):\n",
    "    x,y = {\n",
    "    'train': (Xtr, Ytr),\n",
    "    'val': (Xdev, Ydev),\n",
    "    'test': (Xte, Yte),\n",
    "  }[split]\n",
    "    emb = C[x]\n",
    "    # (N, block_size, n_embd)\n",
    "    embcat = emb.view(emb.shape[0], -1)\n",
    "    hpreact = embcat @ W1 # + b1\n",
    "    # batch normalization \n",
    "#     hpreact = bngain * (hpreact - hpreact.mean(0, keepdim = True))/ hpreact.std(0, keepdim = True)\n",
    "    hpreact = bngain * (hpreact - bnmean_running) / bnstd_running + bnbias\n",
    "    h = torch.tanh(hpreact) \n",
    "    logits = h @ W2 + b2 \n",
    "    loss = F.cross_entropy(logits, y)\n",
    "    print(split, loss.item())\n",
    "\n",
    "split_loss('train')\n",
    "split_loss('val')"
   ]
  },
  {
   "cell_type": "markdown",
   "id": "bcbbf07c",
   "metadata": {},
   "source": [
    "## ResNET\n",
    "\n"
   ]
  },
  {
   "cell_type": "code",
   "execution_count": null,
   "id": "d6f43daf",
   "metadata": {},
   "outputs": [],
   "source": []
  },
  {
   "cell_type": "code",
   "execution_count": null,
   "id": "f3f73e65",
   "metadata": {},
   "outputs": [],
   "source": []
  },
  {
   "cell_type": "code",
   "execution_count": null,
   "id": "49da859b",
   "metadata": {},
   "outputs": [],
   "source": []
  },
  {
   "cell_type": "code",
   "execution_count": null,
   "id": "c11109f4",
   "metadata": {},
   "outputs": [],
   "source": []
  },
  {
   "cell_type": "code",
   "execution_count": 103,
   "id": "eff3b5c8",
   "metadata": {},
   "outputs": [],
   "source": [
    "class Linear:\n",
    "    \n",
    "    def __init__(self, fan_in, fan_out, bias = True):\n",
    "        self.weight = torch.rand((fan_in, fan_out), generator = g) /fan_in ** 0.5\n",
    "        self.bias = torch.zeros(fan_out) if bias else None\n",
    "        \n",
    "    def __call__(self, x):\n",
    "        self.out = x@self.weight\n",
    "        if self.bias is not None:\n",
    "            self.out += self.bias\n",
    "        return self.out \n",
    "    \n",
    "    def parameters(self):\n",
    "        return [self.weight] + ([] if self.bias is None else [self.bias])"
   ]
  },
  {
   "cell_type": "code",
   "execution_count": 104,
   "id": "137d4b0e",
   "metadata": {},
   "outputs": [],
   "source": [
    "class BatchNorm1d:\n",
    "  \n",
    "    def __init__(self, dim, eps=1e-5, momentum=0.1):\n",
    "        self.eps = eps\n",
    "        self.momentum = momentum\n",
    "        self.training = True\n",
    "        # parameters (trained with backprop)\n",
    "        self.gamma = torch.ones(dim)\n",
    "        self.beta = torch.zeros(dim)\n",
    "        # buffers (trained with a running 'momentum update')\n",
    "        self.running_mean = torch.zeros(dim)\n",
    "        self.running_var = torch.ones(dim)\n",
    "  \n",
    "    def __call__(self, x):\n",
    "        # calculate the forward pass\n",
    "        if self.training:\n",
    "            xmean = x.mean(0, keepdim=True) # batch mean\n",
    "            xvar = x.var(0, keepdim=True) # batch variance\n",
    "        else:\n",
    "            xmean = self.running_mean\n",
    "            xvar = self.running_var\n",
    "        xhat = (x - xmean) / torch.sqrt(xvar + self.eps) # normalize to unit variance\n",
    "        self.out = self.gamma * xhat + self.beta\n",
    "        # update the buffers\n",
    "        if self.training:\n",
    "            with torch.no_grad():\n",
    "                self.running_mean = (1 - self.momentum) * self.running_mean + self.momentum * xmean\n",
    "                self.running_var = (1 - self.momentum) * self.running_var + self.momentum * xvar\n",
    "        return self.out\n",
    "  \n",
    "    def parameters(self):\n",
    "        return [self.gamma, self.beta]\n",
    "\n",
    "class Tanh:\n",
    "    def __call__(self, x):\n",
    "        self.out = torch.tanh(x)\n",
    "        return self.out\n",
    "    def parameters(self):\n",
    "        return []"
   ]
  },
  {
   "cell_type": "code",
   "execution_count": 105,
   "id": "5497541f",
   "metadata": {},
   "outputs": [],
   "source": [
    "n_embd = 10 # the dimensionality of the character embedding vectors\n",
    "n_hidden = 100 # the number of neurons in the hidden layer of the MLP\n",
    "g = torch.Generator().manual_seed(2147483647) # for reproducibility\n",
    "\n",
    "C = torch.randn((vocab_size, n_embd),            generator=g)\n",
    "layers = [\n",
    "  Linear(n_embd * block_size, n_hidden, bias=False), BatchNorm1d(n_hidden), Tanh(),\n",
    "  Linear(           n_hidden, n_hidden, bias=False), BatchNorm1d(n_hidden), Tanh(),\n",
    "  Linear(           n_hidden, n_hidden, bias=False), BatchNorm1d(n_hidden), Tanh(),\n",
    "  Linear(           n_hidden, n_hidden, bias=False), BatchNorm1d(n_hidden), Tanh(),\n",
    "  Linear(           n_hidden, n_hidden, bias=False), BatchNorm1d(n_hidden), Tanh(),\n",
    "  Linear(           n_hidden, vocab_size, bias=False), BatchNorm1d(vocab_size),\n",
    "]"
   ]
  },
  {
   "cell_type": "code",
   "execution_count": 109,
   "id": "23ea6372",
   "metadata": {},
   "outputs": [
    {
     "name": "stdout",
     "output_type": "stream",
     "text": [
      "47024\n"
     ]
    }
   ],
   "source": [
    "with torch.no_grad():\n",
    "    # last layer: make less confident\n",
    "    layers[-1].gamma *= 0.1\n",
    "  #layers[-1].weight *= 0.1\n",
    "  # all other layers: apply gain\n",
    "    for layer in layers[:-1]:\n",
    "        if isinstance(layer, Linear):\n",
    "            layer.weight *= 1.0 #5/3\n",
    "\n",
    "parameters = [C] + [p for layer in layers for p in layer.parameters()]\n",
    "print(sum(p.nelement() for p in parameters)) # number of parameters in total\n",
    "for p in parameters:\n",
    "    p.requires_grad = True"
   ]
  },
  {
   "cell_type": "code",
   "execution_count": 111,
   "id": "b2742213",
   "metadata": {},
   "outputs": [
    {
     "name": "stdout",
     "output_type": "stream",
     "text": [
      "      0/ 200000: 2.5594\n",
      "    200/ 200000: 2.3182\n",
      "    400/ 200000: 2.9145\n",
      "    600/ 200000: 2.8333\n",
      "    800/ 200000: 2.3227\n",
      "   1000/ 200000: 2.7448\n"
     ]
    }
   ],
   "source": [
    "max_steps = 200000\n",
    "batch_size = 32\n",
    "lossi = []\n",
    "ud = []\n",
    "\n",
    "for i in range(max_steps):\n",
    "  \n",
    "    # minibatch construct\n",
    "    ix = torch.randint(0, Xtr.shape[0], (batch_size,), generator=g)\n",
    "    Xb, Yb = Xtr[ix], Ytr[ix] # batch X,Y\n",
    "  \n",
    "    # forward pass\n",
    "    emb = C[Xb] # embed the characters into vectors\n",
    "    x = emb.view(emb.shape[0], -1) # concatenate the vectors\n",
    "    for layer in layers:\n",
    "        x = layer(x)\n",
    "        loss = F.cross_entropy(x, Yb) # loss function\n",
    "  \n",
    "    # backward pass\n",
    "    for layer in layers:\n",
    "        layer.out.retain_grad() # AFTER_DEBUG: would take out retain_graph\n",
    "    for p in parameters:\n",
    "        p.grad = None\n",
    "    loss.backward()\n",
    "  \n",
    "    # update\n",
    "    lr = 0.1 if i < 150000 else 0.01 # step learning rate decay\n",
    "    for p in parameters:\n",
    "        p.data += -lr * p.grad\n",
    "\n",
    "    # track stats\n",
    "    if i % 200 == 0: # print every once in a while\n",
    "        print(f'{i:7d}/{max_steps:7d}: {loss.item():.4f}')\n",
    "        lossi.append(loss.log10().item())\n",
    "    with torch.no_grad():\n",
    "        ud.append([((lr*p.grad).std() / p.data.std()).log10().item() for p in parameters])\n",
    "\n",
    "    if i >= 1000:\n",
    "        break # AFTER_DEBUG: would take out obviously to run full optimization"
   ]
  },
  {
   "cell_type": "code",
   "execution_count": null,
   "id": "26ed1da4",
   "metadata": {},
   "outputs": [],
   "source": [
    "# visualize histograms\n",
    "plt.figure(figsize=(20, 4)) # width and height of the plot\n",
    "legends = []\n",
    "for i, layer in enumerate(layers[:-1]): # note: exclude the output layer\n",
    "    if isinstance(layer, Tanh):\n",
    "        t = layer.out\n",
    "        print('layer %d (%10s): mean %+.2f, std %.2f, saturated: %.2f%%' % (i, layer.__class__.__name__, t.mean(), t.std(), (t.abs() > 0.97).float().mean()*100))\n",
    "        hy, hx = torch.histogram(t, density=True)\n",
    "        plt.plot(hx[:-1].detach(), hy.detach())\n",
    "        legends.append(f'layer {i} ({layer.__class__.__name__}')\n",
    "plt.legend(legends);\n",
    "plt.title('activation distribution')"
   ]
  },
  {
   "cell_type": "code",
   "execution_count": null,
   "id": "7f68d470",
   "metadata": {},
   "outputs": [],
   "source": [
    "# visualize histograms\n",
    "plt.figure(figsize=(20, 4)) # width and height of the plot\n",
    "legends = []\n",
    "for i, layer in enumerate(layers[:-1]): # note: exclude the output layer\n",
    "    if isinstance(layer, Tanh):\n",
    "        t = layer.out.grad\n",
    "        print('layer %d (%10s): mean %+f, std %e' % (i, layer.__class__.__name__, t.mean(), t.std()))\n",
    "        hy, hx = torch.histogram(t, density=True)\n",
    "        plt.plot(hx[:-1].detach(), hy.detach())\n",
    "        legends.append(f'layer {i} ({layer.__class__.__name__}')\n",
    "plt.legend(legends);\n",
    "plt.title('gradient distribution')"
   ]
  },
  {
   "cell_type": "code",
   "execution_count": null,
   "id": "90d92195",
   "metadata": {},
   "outputs": [],
   "source": [
    "# visualize histograms\n",
    "plt.figure(figsize=(20, 4)) # width and height of the plot\n",
    "legends = []\n",
    "for i,p in enumerate(parameters):\n",
    "    t = p.grad\n",
    "    if p.ndim == 2:\n",
    "        print('weight %10s | mean %+f | std %e | grad:data ratio %e' % (tuple(p.shape), t.mean(), t.std(), t.std() / p.std()))\n",
    "        hy, hx = torch.histogram(t, density=True)\n",
    "        plt.plot(hx[:-1].detach(), hy.detach())\n",
    "        legends.append(f'{i} {tuple(p.shape)}')\n",
    "plt.legend(legends)\n",
    "plt.title('weights gradient distribution');"
   ]
  },
  {
   "cell_type": "code",
   "execution_count": null,
   "id": "c30c90da",
   "metadata": {},
   "outputs": [],
   "source": [
    "plt.figure(figsize=(20, 4))\n",
    "legends = []\n",
    "for i,p in enumerate(parameters):\n",
    "    if p.ndim == 2:\n",
    "        plt.plot([ud[j][i] for j in range(len(ud))])\n",
    "        legends.append('param %d' % i)\n",
    "plt.plot([0, len(ud)], [-3, -3], 'k') # these ratios should be ~1e-3, indicate on plot\n",
    "plt.legend(legends);"
   ]
  },
  {
   "cell_type": "code",
   "execution_count": null,
   "id": "70dd6f64",
   "metadata": {},
   "outputs": [],
   "source": [
    "@torch.no_grad() # this decorator disables gradient tracking\n",
    "def split_loss(split):\n",
    "    x,y = {\n",
    "    'train': (Xtr, Ytr),\n",
    "    'val': (Xdev, Ydev),\n",
    "    'test': (Xte, Yte),\n",
    "  }[split]\n",
    "    emb = C[x] # (N, block_size, n_embd)\n",
    "    x = emb.view(emb.shape[0], -1) # concat into (N, block_size * n_embd)\n",
    "    for layer in layers:\n",
    "    x = layer(x)\n",
    "  loss = F.cross_entropy(x, y)\n",
    "  print(split, loss.item())\n",
    "\n",
    "# put layers into eval mode\n",
    "for layer in layers:\n",
    "  layer.training = False\n",
    "split_loss('train')\n",
    "split_loss('val')"
   ]
  }
 ],
 "metadata": {
  "kernelspec": {
   "display_name": "Python 3 (ipykernel)",
   "language": "python",
   "name": "python3"
  },
  "language_info": {
   "codemirror_mode": {
    "name": "ipython",
    "version": 3
   },
   "file_extension": ".py",
   "mimetype": "text/x-python",
   "name": "python",
   "nbconvert_exporter": "python",
   "pygments_lexer": "ipython3",
   "version": "3.11.0"
  }
 },
 "nbformat": 4,
 "nbformat_minor": 5
}
