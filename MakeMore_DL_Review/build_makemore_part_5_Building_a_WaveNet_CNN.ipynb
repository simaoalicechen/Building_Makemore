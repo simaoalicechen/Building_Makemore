{
 "cells": [
  {
   "cell_type": "markdown",
   "id": "c7379748",
   "metadata": {},
   "source": [
    "# Part 5 WaveNet"
   ]
  },
  {
   "cell_type": "code",
   "execution_count": 1,
   "id": "46420bdf",
   "metadata": {},
   "outputs": [],
   "source": [
    "import torch\n",
    "import torch.nn.functional as F\n",
    "import matplotlib.pyplot as plt # for making figures\n",
    "%matplotlib inline"
   ]
  },
  {
   "cell_type": "code",
   "execution_count": 2,
   "id": "b24b847a",
   "metadata": {},
   "outputs": [
    {
     "name": "stdout",
     "output_type": "stream",
     "text": [
      "32033\n",
      "15\n",
      "['emma', 'olivia', 'ava', 'isabella', 'sophia', 'charlotte', 'mia', 'amelia']\n"
     ]
    }
   ],
   "source": [
    "# read in all the words\n",
    "words = open('names.txt', 'r').read().splitlines()\n",
    "print(len(words))\n",
    "print(max(len(w) for w in words))\n",
    "print(words[:8])"
   ]
  },
  {
   "cell_type": "code",
   "execution_count": 3,
   "id": "0ac9620d",
   "metadata": {},
   "outputs": [
    {
     "name": "stdout",
     "output_type": "stream",
     "text": [
      "{1: 'a', 2: 'b', 3: 'c', 4: 'd', 5: 'e', 6: 'f', 7: 'g', 8: 'h', 9: 'i', 10: 'j', 11: 'k', 12: 'l', 13: 'm', 14: 'n', 15: 'o', 16: 'p', 17: 'q', 18: 'r', 19: 's', 20: 't', 21: 'u', 22: 'v', 23: 'w', 24: 'x', 25: 'y', 26: 'z', 0: '.'}\n",
      "27\n"
     ]
    }
   ],
   "source": [
    "# build the vocabulary of characters and mappings to/from integers\n",
    "chars = sorted(list(set(''.join(words))))\n",
    "stoi = {s:i+1 for i,s in enumerate(chars)}\n",
    "stoi['.'] = 0\n",
    "itos = {i:s for s,i in stoi.items()}\n",
    "vocab_size = len(itos)\n",
    "print(itos)\n",
    "print(vocab_size)"
   ]
  },
  {
   "cell_type": "code",
   "execution_count": 4,
   "id": "dd298e45",
   "metadata": {},
   "outputs": [],
   "source": [
    "# shuffle up the words\n",
    "import random\n",
    "random.seed(42)\n",
    "random.shuffle(words)"
   ]
  },
  {
   "cell_type": "code",
   "execution_count": 8,
   "id": "b4b46b28",
   "metadata": {},
   "outputs": [
    {
     "name": "stdout",
     "output_type": "stream",
     "text": [
      "[0, 8, 15, 12, 4, 1, 14, 0]\n",
      "torch.Size([182625, 8]) torch.Size([182625])\n",
      "[0, 0, 8, 1, 25, 12, 1, 0]\n",
      "torch.Size([22655, 8]) torch.Size([22655])\n",
      "[0, 25, 15, 22, 1, 14, 9, 0]\n",
      "torch.Size([22866, 8]) torch.Size([22866])\n"
     ]
    }
   ],
   "source": [
    "# build the dataset\n",
    "block_size = 8 # context length: how many characters do we take to predict the next one?\n",
    "\n",
    "def build_dataset(words):  \n",
    "    X, Y = [], []\n",
    "  \n",
    "    for w in words:\n",
    "        context = [0] * block_size\n",
    "        for ch in w + '.':\n",
    "            ix = stoi[ch]\n",
    "            X.append(context)\n",
    "            Y.append(ix)\n",
    "            context = context[1:] + [ix] # crop and append\n",
    "    print(context)\n",
    "\n",
    "    X = torch.tensor(X)\n",
    "    Y = torch.tensor(Y)\n",
    "    print(X.shape, Y.shape)\n",
    "    return X, Y\n",
    "\n",
    "n1 = int(0.8*len(words))\n",
    "n2 = int(0.9*len(words))\n",
    "Xtr,  Ytr  = build_dataset(words[:n1])     # 80%\n",
    "Xdev, Ydev = build_dataset(words[n1:n2])   # 10%\n",
    "Xte,  Yte  = build_dataset(words[n2:])     # 10%"
   ]
  },
  {
   "cell_type": "code",
   "execution_count": 9,
   "id": "63159cb8",
   "metadata": {
    "scrolled": true
   },
   "outputs": [
    {
     "name": "stdout",
     "output_type": "stream",
     "text": [
      "........ --> y\n",
      ".......y --> u\n",
      "......yu --> h\n",
      ".....yuh --> e\n",
      "....yuhe --> n\n",
      "...yuhen --> g\n",
      "..yuheng --> .\n",
      "........ --> d\n",
      ".......d --> i\n",
      "......di --> o\n",
      ".....dio --> n\n",
      "....dion --> d\n",
      "...diond --> r\n",
      "..diondr --> e\n",
      ".diondre --> .\n",
      "........ --> x\n",
      ".......x --> a\n",
      "......xa --> v\n",
      ".....xav --> i\n",
      "....xavi --> e\n"
     ]
    }
   ],
   "source": [
    "for x,y in zip(Xtr[:20], Ytr[:20]):\n",
    "    print(''.join(itos[ix.item()] for ix in x), '-->', itos[y.item()])"
   ]
  },
  {
   "cell_type": "markdown",
   "id": "7b7b75af",
   "metadata": {},
   "source": [
    "# Boilerplate done here."
   ]
  },
  {
   "cell_type": "code",
   "execution_count": 19,
   "id": "cc832758",
   "metadata": {},
   "outputs": [],
   "source": [
    "# Now this is the WaveNet part"
   ]
  },
  {
   "cell_type": "code",
   "execution_count": 16,
   "id": "176c52b3",
   "metadata": {},
   "outputs": [],
   "source": [
    "class Linear:\n",
    "    def __init__(self, fan_in, fan_out, bias=True):\n",
    "        # the weights using a normal distribution scaled by the square root of fan_in\n",
    "        # this scaling is also a form of Xavier initialization, which helps in stabilizing the training process.\n",
    "        self.weight = torch.randn((fan_in, fan_out)) / fan_in**0.5 \n",
    "\n",
    "        # the bias term as zeros if bias is True, otherwise set it to None\n",
    "        self.bias = torch.zeros(fan_out) if bias else None\n",
    "  \n",
    "    # allows the object to be called like a function\n",
    "    def __call__(self, x):\n",
    "        # the matrix multiplication of input x with the weight matrix\n",
    "        self.out = x @ self.weight\n",
    "        \n",
    "        # if bias exists, add it to the output\n",
    "        if self.bias is not None:\n",
    "            self.out += self.bias\n",
    "        \n",
    "        # return the computed output\n",
    "        return self.out\n",
    "\n",
    "    # method to return the parameters (weights and bias) of the layer\n",
    "    def parameters(self):\n",
    "        # return the weight and bias as a list. If bias is None, only return the weight.\n",
    "        return [self.weight] + ([] if self.bias is None else [self.bias])\n"
   ]
  },
  {
   "cell_type": "code",
   "execution_count": 30,
   "id": "176d6c3c",
   "metadata": {},
   "outputs": [],
   "source": [
    "class BatchNorm1d:\n",
    "  \n",
    "    def __init__(self, dim, eps=1e-5, momentum=0.1):\n",
    "        # a small constant to avoid division by zero during normalization in the denominator\n",
    "        self.eps = eps  \n",
    "        \n",
    "        self.momentum = momentum  \n",
    "        \n",
    "        # flag to indicate whether the layer is in training mode\n",
    "        self.training = True  \n",
    "        \n",
    "        # learnable param\n",
    "        self.gamma = torch.ones(dim)  # initialized to 1\n",
    "        self.beta = torch.zeros(dim)  # initialized to 0)\n",
    "    \n",
    "        # buffers (not learnable, updated during forward passes)\n",
    "        self.running_mean = torch.zeros(dim)  # Running mean of the inputs\n",
    "        self.running_var = torch.ones(dim)  # Running variance of the inputs\n",
    "  \n",
    "    def __call__(self, x):\n",
    "        # calculate the forward pass (normalize the input)\n",
    "        if self.training:\n",
    "            # the dimensions over which to compute mean and variance\n",
    "            # if x is a 2D tensor (e.g., [batch_size, features])\n",
    "            if x.ndim == 2:  \n",
    "                dim = 0\n",
    "            # else if x is a 3D tensor (e.g., [batch_size, time, features])\n",
    "            elif x.ndim == 3:  \n",
    "                dim = (0, 1)\n",
    "            \n",
    "            # these are the mean and variance across the batch\n",
    "            # batch mean\n",
    "            xmean = x.mean(dim, keepdim=True) \n",
    "             # batch variance\n",
    "            xvar = x.var(dim, keepdim=True) \n",
    "        else:\n",
    "            # the running mean and variance during evaluation\n",
    "            xmean = self.running_mean\n",
    "            xvar = self.running_var\n",
    "        \n",
    "        # normalize the input to have zero mean and unit variance\n",
    "        xhat = (x - xmean) / torch.sqrt(xvar + self.eps)\n",
    "        \n",
    "        # scale and shift the normalized input using gamma and beta\n",
    "        self.out = self.gamma * xhat + self.beta\n",
    "        \n",
    "        # update the running mean and variance during training\n",
    "        if self.training:\n",
    "            # disable gradient calculation for these updates\n",
    "            with torch.no_grad():  \n",
    "                self.running_mean = (1 - self.momentum) * self.running_mean + self.momentum * xmean\n",
    "                self.running_var = (1 - self.momentum) * self.running_var + self.momentum * xvar\n",
    "        \n",
    "        # return the output of the BatchNorm layer\n",
    "        return self.out\n",
    "  \n",
    "    # method to return the parameters (gamma and beta) of the layer\n",
    "    def parameters(self):\n",
    "        return [self.gamma, self.beta]\n"
   ]
  },
  {
   "cell_type": "code",
   "execution_count": 17,
   "id": "12b4e0ad",
   "metadata": {},
   "outputs": [],
   "source": [
    "class Tanh:\n",
    "    def __call__(self, x):\n",
    "        # torch.tanh activation function to the input x\n",
    "        # it squashes the input to the range (-1, 1)\n",
    "        self.out = torch.tanh(x)\n",
    "        \n",
    "        \n",
    "        \n",
    "        return self.out\n",
    "    \n",
    "    # returns an empty list because the Tanh function has no learnable parameters\n",
    "    def parameters(self):\n",
    "        return []\n"
   ]
  },
  {
   "cell_type": "code",
   "execution_count": 18,
   "id": "c68b1157",
   "metadata": {},
   "outputs": [],
   "source": [
    "class Embedding:\n",
    "  \n",
    "    def __init__(self, num_embeddings, embedding_dim):\n",
    "        # initialize the embedding matrix with random values\n",
    "        # num_embeddings: the size of the vocabulary (number of unique tokens)\n",
    "        # embedding_dim: the size of each embedding vector\n",
    "        self.weight = torch.randn((num_embeddings, embedding_dim))\n",
    "        \n",
    "    def __call__(self, IX):\n",
    "        # retrieve the embeddings for the indices provided in IX, which is typically a tensor \n",
    "        # containing indices of the words/tokens\n",
    "        # self.weight[IX] extracts the corresponding embedding vectors for those indices\n",
    "        self.out = self.weight[IX]\n",
    "        return self.out\n",
    "    \n",
    "    def parameters(self):\n",
    "        # return the embedding matrix as \n",
    "        # the only learnable parameter\n",
    "        return [self.weight]\n"
   ]
  },
  {
   "cell_type": "code",
   "execution_count": 22,
   "id": "6b5434f3",
   "metadata": {},
   "outputs": [],
   "source": [
    "class FlattenConsecutive:\n",
    "  \n",
    "    def __init__(self, n):\n",
    "        # n specifies how many consecutive time steps or elements to flatten together\n",
    "        self.n = n\n",
    "        \n",
    "    def __call__(self, x):\n",
    "        # get the batch size (B), \n",
    "        # sequence length (T), \n",
    "        # and number of features (C) from the input tensor x\n",
    "        B, T, C = x.shape\n",
    "        \n",
    "        # reshape the input tensor x by flattening n consecutive elements together\n",
    "        # the new shape is (B, T//self.n, C*self.n)\n",
    "        # T//self.n gives the new sequence length after flattening\n",
    "        # C*self.n gives the new number of features after flattening\n",
    "        x = x.view(B, T//self.n, C*self.n)\n",
    "        \n",
    "        # remove that dimension, if the length is 1\n",
    "        if x.shape[1] == 1:\n",
    "            x = x.squeeze(1)\n",
    "        \n",
    "        # for later\n",
    "        self.out = x\n",
    "        \n",
    "        return self.out\n",
    "  \n",
    "    def parameters(self):\n",
    "        # return an empty list as this layer has no learnable parameters\n",
    "        return []\n"
   ]
  },
  {
   "cell_type": "code",
   "execution_count": 24,
   "id": "f5a29b7d",
   "metadata": {},
   "outputs": [],
   "source": [
    "class Sequential:\n",
    "    def __init__(self, layers):\n",
    "        self.layers = layers\n",
    "  \n",
    "    def __call__(self, x):\n",
    "        for layer in self.layers:\n",
    "            x = layer(x)\n",
    "        self.out = x\n",
    "        return self.out\n",
    "  \n",
    "    def parameters(self):\n",
    "        # get parameters of all layers and stretch them out into one list\n",
    "        return [p for layer in self.layers for p in layer.parameters()]"
   ]
  },
  {
   "cell_type": "code",
   "execution_count": 25,
   "id": "b41e00d2",
   "metadata": {},
   "outputs": [
    {
     "data": {
      "text/plain": [
       "<torch._C.Generator at 0x111884190>"
      ]
     },
     "execution_count": 25,
     "metadata": {},
     "output_type": "execute_result"
    }
   ],
   "source": [
    "torch.manual_seed(42) "
   ]
  },
  {
   "cell_type": "code",
   "execution_count": 31,
   "id": "76307acb",
   "metadata": {},
   "outputs": [
    {
     "name": "stdout",
     "output_type": "stream",
     "text": [
      "76579\n"
     ]
    }
   ],
   "source": [
    "# Andrej's notes:\n",
    "# original network\n",
    "# n_embd = 10 # the dimensionality of the character embedding vectors\n",
    "# n_hidden = 300 # the number of neurons in the hidden layer of the MLP\n",
    "# model = Sequential([\n",
    "#   Embedding(vocab_size, n_embd),\n",
    "#   FlattenConsecutive(8), Linear(n_embd * 8, n_hidden, bias=False), BatchNorm1d(n_hidden), Tanh(),\n",
    "#   Linear(n_hidden, vocab_size),\n",
    "# ])\n",
    "\n",
    "# hierarchical network\n",
    "n_embd = 24 # the dimensionality of the character embedding vectors\n",
    "n_hidden = 128 # the number of neurons in the hidden layer of the MLP\n",
    "model = Sequential([\n",
    "  Embedding(vocab_size, n_embd),\n",
    "  FlattenConsecutive(2), Linear(n_embd * 2, n_hidden, bias=False), BatchNorm1d(n_hidden), Tanh(),\n",
    "  FlattenConsecutive(2), Linear(n_hidden*2, n_hidden, bias=False), BatchNorm1d(n_hidden), Tanh(),\n",
    "  FlattenConsecutive(2), Linear(n_hidden*2, n_hidden, bias=False), BatchNorm1d(n_hidden), Tanh(),\n",
    "  Linear(n_hidden, vocab_size),\n",
    "])\n",
    "\n",
    "# parameter init\n",
    "with torch.no_grad():\n",
    "    model.layers[-1].weight *= 0.1 # last layer make less confident\n",
    "\n",
    "parameters = model.parameters()\n",
    "print(sum(p.nelement() for p in parameters)) # number of parameters in total\n",
    "for p in parameters:\n",
    "    p.requires_grad = True"
   ]
  },
  {
   "cell_type": "code",
   "execution_count": 32,
   "id": "cf91d4c9",
   "metadata": {},
   "outputs": [
    {
     "name": "stdout",
     "output_type": "stream",
     "text": [
      "      0/ 200000: 3.2993\n",
      "  10000/ 200000: 2.0000\n",
      "  20000/ 200000: 1.9776\n",
      "  30000/ 200000: 2.1607\n",
      "  40000/ 200000: 1.9803\n",
      "  50000/ 200000: 1.9390\n",
      "  60000/ 200000: 1.9556\n",
      "  70000/ 200000: 2.1118\n",
      "  80000/ 200000: 2.5469\n",
      "  90000/ 200000: 1.5931\n",
      " 100000/ 200000: 1.9002\n",
      " 110000/ 200000: 2.1456\n",
      " 120000/ 200000: 1.3915\n",
      " 130000/ 200000: 1.4755\n",
      " 140000/ 200000: 1.7937\n",
      " 150000/ 200000: 1.6296\n",
      " 160000/ 200000: 2.1320\n",
      " 170000/ 200000: 1.6626\n",
      " 180000/ 200000: 2.0077\n",
      " 190000/ 200000: 1.4109\n"
     ]
    }
   ],
   "source": [
    "# same optimization as previously\n",
    "max_steps = 200000\n",
    "batch_size = 32\n",
    "lossi = []\n",
    "\n",
    "for i in range(max_steps):\n",
    "  \n",
    "    # minibatch construct\n",
    "    ix = torch.randint(0, Xtr.shape[0], (batch_size,))\n",
    "    Xb, Yb = Xtr[ix], Ytr[ix] # batch X,Y\n",
    "  \n",
    "    # forward pass\n",
    "    logits = model(Xb)\n",
    "    loss = F.cross_entropy(logits, Yb) # loss function\n",
    "  \n",
    "    # backward pass\n",
    "    for p in parameters:\n",
    "        p.grad = None\n",
    "    loss.backward()\n",
    "  \n",
    "    # update: simple SGD\n",
    "    lr = 0.1 if i < 150000 else 0.01 # step learning rate decay\n",
    "    for p in parameters:\n",
    "        p.data += -lr * p.grad\n",
    "\n",
    "    # track stats\n",
    "    if i % 10000 == 0: # print every once in a while\n",
    "        print(f'{i:7d}/{max_steps:7d}: {loss.item():.4f}')\n",
    "    lossi.append(loss.log10().item())"
   ]
  },
  {
   "cell_type": "code",
   "execution_count": 33,
   "id": "c9ce3597",
   "metadata": {},
   "outputs": [
    {
     "data": {
      "text/plain": [
       "[<matplotlib.lines.Line2D at 0x1241f8dd0>]"
      ]
     },
     "execution_count": 33,
     "metadata": {},
     "output_type": "execute_result"
    },
    {
     "data": {
      "image/png": "[encoded data removed]",
      "text/plain": [
       "<Figure size 640x480 with 1 Axes>"
      ]
     },
     "metadata": {},
     "output_type": "display_data"
    }
   ],
   "source": [
    "plt.plot(torch.tensor(lossi).view(-1, 1000).mean(1))"
   ]
  },
  {
   "cell_type": "code",
   "execution_count": 34,
   "id": "216d6662",
   "metadata": {},
   "outputs": [],
   "source": [
    "# put layers into eval mode (needed for batchnorm especially)\n",
    "for layer in model.layers:\n",
    "    layer.training = False"
   ]
  },
  {
   "cell_type": "code",
   "execution_count": 35,
   "id": "e1267faf",
   "metadata": {},
   "outputs": [
    {
     "name": "stdout",
     "output_type": "stream",
     "text": [
      "train 1.766425609588623\n",
      "val 1.9937143325805664\n"
     ]
    }
   ],
   "source": [
    "# evaluate the loss\n",
    "@torch.no_grad() # this decorator disables gradient tracking inside pytorch\n",
    "def split_loss(split):\n",
    "    x,y = {\n",
    "    'train': (Xtr, Ytr),\n",
    "    'val': (Xdev, Ydev),\n",
    "    'test': (Xte, Yte),\n",
    "    }[split]\n",
    "    logits = model(x)\n",
    "    loss = F.cross_entropy(logits, y)\n",
    "    print(split, loss.item())\n",
    "\n",
    "split_loss('train')\n",
    "split_loss('val')"
   ]
  },
  {
   "cell_type": "code",
   "execution_count": 36,
   "id": "2499fefc",
   "metadata": {},
   "outputs": [
    {
     "name": "stdout",
     "output_type": "stream",
     "text": [
      "mattie.\n",
      "amiri.\n",
      "raella.\n",
      "emeri.\n",
      "ronielo.\n",
      "sammi.\n",
      "kaleiah.\n",
      "mckenson.\n",
      "belmady.\n",
      "samyah.\n",
      "kassaya.\n",
      "brenneite.\n",
      "gunceri.\n",
      "nangell.\n",
      "tyleigh.\n",
      "rosalera.\n",
      "taivika.\n",
      "alhissa.\n",
      "mayonnie.\n",
      "ally.\n"
     ]
    }
   ],
   "source": [
    "# sample from the model\n",
    "for _ in range(20):\n",
    "    \n",
    "    out = []\n",
    "    context = [0] * block_size # initialize with all ...\n",
    "    while True:\n",
    "        logits = model(torch.tensor([context]))\n",
    "        probs = F.softmax(logits, dim=1)\n",
    "        \n",
    "        \n",
    "        # sample from the distribution\n",
    "        ix = torch.multinomial(probs, num_samples=1).item()\n",
    "        \n",
    "        \n",
    "        # shift the context window and track the samples\n",
    "        context = context[1:] + [ix]\n",
    "        out.append(ix)\n",
    "        \n",
    "        \n",
    "        \n",
    "        # if we sample the special '.' token, break\n",
    "        if ix == 0:\n",
    "            break\n",
    "    \n",
    "    print(''.join(itos[i] for i in out)) # decode and print the generated word"
   ]
  },
  {
   "cell_type": "code",
   "execution_count": null,
   "id": "0f8f9627",
   "metadata": {},
   "outputs": [],
   "source": []
  }
 ],
 "metadata": {
  "kernelspec": {
   "display_name": "Python 3 (ipykernel)",
   "language": "python",
   "name": "python3"
  },
  "language_info": {
   "codemirror_mode": {
    "name": "ipython",
    "version": 3
   },
   "file_extension": ".py",
   "mimetype": "text/x-python",
   "name": "python",
   "nbconvert_exporter": "python",
   "pygments_lexer": "ipython3",
   "version": "3.11.0"
  }
 },
 "nbformat": 4,
 "nbformat_minor": 5
}
