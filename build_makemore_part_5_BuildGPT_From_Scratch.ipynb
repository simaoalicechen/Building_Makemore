{
 "cells": [
  {
   "cell_type": "markdown",
   "id": "c7379748",
   "metadata": {},
   "source": [
    "# This is a Transformer-based language model. Much smaller than any commercial llm. Just for fun. "
   ]
  },
  {
   "cell_type": "code",
   "execution_count": null,
   "id": "46420bdf",
   "metadata": {},
   "outputs": [],
   "source": []
  }
 ],
 "metadata": {
  "kernelspec": {
   "display_name": "Python 3 (ipykernel)",
   "language": "python",
   "name": "python3"
  },
  "language_info": {
   "codemirror_mode": {
    "name": "ipython",
    "version": 3
   },
   "file_extension": ".py",
   "mimetype": "text/x-python",
   "name": "python",
   "nbconvert_exporter": "python",
   "pygments_lexer": "ipython3",
   "version": "3.11.0"
  }
 },
 "nbformat": 4,
 "nbformat_minor": 5
}
